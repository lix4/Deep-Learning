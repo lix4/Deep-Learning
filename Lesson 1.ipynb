{
 "cells": [
  {
   "cell_type": "code",
   "execution_count": 3,
   "metadata": {
    "collapsed": true
   },
   "outputs": [],
   "source": [
    "import numpy as np\n",
    "import matplotlib.pyplot as plt"
   ]
  },
  {
   "cell_type": "code",
   "execution_count": 4,
   "metadata": {
    "collapsed": true
   },
   "outputs": [],
   "source": [
    "y = np.array([128,123,129,143,132,142,112,118,108,119])"
   ]
  },
  {
   "cell_type": "code",
   "execution_count": 5,
   "metadata": {
    "collapsed": true
   },
   "outputs": [],
   "source": [
    "def L1_loss_fun(b, ls):  \n",
    "    return np.abs(ls-b).mean()"
   ]
  },
  {
   "cell_type": "code",
   "execution_count": 6,
   "metadata": {},
   "outputs": [
    {
     "data": {
      "text/plain": [
       "34.600000000000001"
      ]
     },
     "execution_count": 6,
     "metadata": {},
     "output_type": "execute_result"
    }
   ],
   "source": [
    "L1_loss_fun(160, y)"
   ]
  },
  {
   "cell_type": "code",
   "execution_count": 12,
   "metadata": {},
   "outputs": [
    {
     "data": {
      "text/plain": [
       "array([ 100. ,  100.4,  100.8,  101.2,  101.6,  102. ,  102.4,  102.8,\n",
       "        103.2,  103.6,  104. ,  104.4,  104.8,  105.2,  105.6,  106. ,\n",
       "        106.4,  106.8,  107.2,  107.6,  108. ,  108.4,  108.8,  109.2,\n",
       "        109.6,  110. ,  110.4,  110.8,  111.2,  111.6,  112. ,  112.4,\n",
       "        112.8,  113.2,  113.6,  114. ,  114.4,  114.8,  115.2,  115.6,\n",
       "        116. ,  116.4,  116.8,  117.2,  117.6,  118. ,  118.4,  118.8,\n",
       "        119.2,  119.6,  120. ,  120.4,  120.8,  121.2,  121.6,  122. ,\n",
       "        122.4,  122.8,  123.2,  123.6,  124. ,  124.4,  124.8,  125.2,\n",
       "        125.6,  126. ,  126.4,  126.8,  127.2,  127.6,  128. ,  128.4,\n",
       "        128.8,  129.2,  129.6,  130. ,  130.4,  130.8,  131.2,  131.6,\n",
       "        132. ,  132.4,  132.8,  133.2,  133.6,  134. ,  134.4,  134.8,\n",
       "        135.2,  135.6,  136. ,  136.4,  136.8,  137.2,  137.6,  138. ,\n",
       "        138.4,  138.8,  139.2,  139.6,  140. ])"
      ]
     },
     "execution_count": 12,
     "metadata": {},
     "output_type": "execute_result"
    }
   ],
   "source": [
    "B=np.linspace(100,140,101)\n",
    "B"
   ]
  },
  {
   "cell_type": "code",
   "execution_count": 13,
   "metadata": {},
   "outputs": [
    {
     "data": {
      "text/plain": [
       "array([ 0.,  0.,  0.,  0.,  0.,  0.,  0.,  0.,  0.,  0.,  0.,  0.,  0.,\n",
       "        0.,  0.,  0.,  0.,  0.,  0.,  0.,  0.,  0.,  0.,  0.,  0.,  0.,\n",
       "        0.,  0.,  0.,  0.,  0.,  0.,  0.,  0.,  0.,  0.,  0.,  0.,  0.,\n",
       "        0.,  0.,  0.,  0.,  0.,  0.,  0.,  0.,  0.,  0.,  0.,  0.,  0.,\n",
       "        0.,  0.,  0.,  0.,  0.,  0.,  0.,  0.,  0.,  0.,  0.,  0.,  0.,\n",
       "        0.,  0.,  0.,  0.,  0.,  0.,  0.,  0.,  0.,  0.,  0.,  0.,  0.,\n",
       "        0.,  0.,  0.,  0.,  0.,  0.,  0.,  0.,  0.,  0.,  0.,  0.,  0.,\n",
       "        0.,  0.,  0.,  0.,  0.,  0.,  0.,  0.,  0.,  0.])"
      ]
     },
     "execution_count": 13,
     "metadata": {},
     "output_type": "execute_result"
    }
   ],
   "source": [
    "L1_loss=np.zeros(len(B))\n",
    "L1_loss"
   ]
  },
  {
   "cell_type": "code",
   "execution_count": 14,
   "metadata": {},
   "outputs": [
    {
     "data": {
      "text/plain": [
       "array([ 25.4 ,  25.  ,  24.6 ,  24.2 ,  23.8 ,  23.4 ,  23.  ,  22.6 ,\n",
       "        22.2 ,  21.8 ,  21.4 ,  21.  ,  20.6 ,  20.2 ,  19.8 ,  19.4 ,\n",
       "        19.  ,  18.6 ,  18.2 ,  17.8 ,  17.4 ,  17.08,  16.76,  16.44,\n",
       "        16.12,  15.8 ,  15.48,  15.16,  14.84,  14.52,  14.2 ,  13.96,\n",
       "        13.72,  13.48,  13.24,  13.  ,  12.76,  12.52,  12.28,  12.04,\n",
       "        11.8 ,  11.56,  11.32,  11.08,  10.84,  10.6 ,  10.44,  10.28,\n",
       "        10.16,  10.08,  10.  ,   9.92,   9.84,   9.76,   9.68,   9.6 ,\n",
       "         9.52,   9.44,   9.4 ,   9.4 ,   9.4 ,   9.4 ,   9.4 ,   9.4 ,\n",
       "         9.4 ,   9.4 ,   9.4 ,   9.4 ,   9.4 ,   9.4 ,   9.4 ,   9.48,\n",
       "         9.56,   9.68,   9.84,  10.  ,  10.16,  10.32,  10.48,  10.64,\n",
       "        10.8 ,  11.04,  11.28,  11.52,  11.76,  12.  ,  12.24,  12.48,\n",
       "        12.72,  12.96,  13.2 ,  13.44,  13.68,  13.92,  14.16,  14.4 ,\n",
       "        14.64,  14.88,  15.12,  15.36,  15.6 ])"
      ]
     },
     "execution_count": 14,
     "metadata": {},
     "output_type": "execute_result"
    }
   ],
   "source": [
    "for k in range(len(B)):\n",
    "    L1_loss[k]=L1_loss_fun(B[k],y)\n",
    "L1_loss"
   ]
  },
  {
   "cell_type": "code",
   "execution_count": 15,
   "metadata": {},
   "outputs": [
    {
     "data": {
      "text/plain": [
       "9.4000000000000004"
      ]
     },
     "execution_count": 15,
     "metadata": {},
     "output_type": "execute_result"
    }
   ],
   "source": [
    "L1_loss_fun(125.9,y)"
   ]
  },
  {
   "cell_type": "code",
   "execution_count": 16,
   "metadata": {},
   "outputs": [
    {
     "data": {
      "image/png": "[encoded data removed]",
      "text/plain": [
       "<matplotlib.figure.Figure at 0x1d1d12166d8>"
      ]
     },
     "metadata": {},
     "output_type": "display_data"
    }
   ],
   "source": [
    "plt.plot(B, L1_loss)\n",
    "plt.show()"
   ]
  },
  {
   "cell_type": "code",
   "execution_count": 10,
   "metadata": {},
   "outputs": [
    {
     "data": {
      "text/plain": [
       "array([128, 123, 129, 143, 132, 142, 112, 118, 108, 119])"
      ]
     },
     "execution_count": 10,
     "metadata": {},
     "output_type": "execute_result"
    }
   ],
   "source": [
    "y"
   ]
  },
  {
   "cell_type": "code",
   "execution_count": 11,
   "metadata": {},
   "outputs": [
    {
     "data": {
      "text/plain": [
       "array([16384, 15129, 16641, 20449, 17424, 20164, 12544, 13924, 11664, 14161], dtype=int32)"
      ]
     },
     "execution_count": 11,
     "metadata": {},
     "output_type": "execute_result"
    }
   ],
   "source": [
    "np.square(y)"
   ]
  },
  {
   "cell_type": "code",
   "execution_count": 12,
   "metadata": {
    "collapsed": true
   },
   "outputs": [],
   "source": [
    "def L2_loss_fun(b,ls):\n",
    "    return np.square(ls-b).mean()"
   ]
  },
  {
   "cell_type": "code",
   "execution_count": 13,
   "metadata": {},
   "outputs": [
    {
     "data": {
      "text/plain": [
       "1320.4000000000001"
      ]
     },
     "execution_count": 13,
     "metadata": {},
     "output_type": "execute_result"
    }
   ],
   "source": [
    "L2_loss_fun(160,y)"
   ]
  },
  {
   "cell_type": "code",
   "execution_count": 14,
   "metadata": {},
   "outputs": [
    {
     "data": {
      "text/plain": [
       "array([ 3192.4 ,  3050.05,  2911.08,  2775.49,  2643.28,  2514.45,\n",
       "        2389.  ,  2266.93,  2148.24,  2032.93,  1921.  ,  1812.45,\n",
       "        1707.28,  1605.49,  1507.08,  1412.05,  1320.4 ,  1232.13,\n",
       "        1147.24,  1065.73,   987.6 ,   912.85,   841.48,   773.49,\n",
       "         708.88,   647.65,   589.8 ,   535.33,   484.24,   436.53,\n",
       "         392.2 ,   351.25,   313.68,   279.49,   248.68,   221.25,\n",
       "         197.2 ,   176.53,   159.24,   145.33,   134.8 ,   127.65,\n",
       "         123.88,   123.49,   126.48,   132.85,   142.6 ,   155.73,\n",
       "         172.24,   192.13,   215.4 ,   242.05,   272.08,   305.49,\n",
       "         342.28,   382.45,   426.  ,   472.93,   523.24,   576.93,\n",
       "         634.  ,   694.45,   758.28,   825.49,   896.08,   970.05,\n",
       "        1047.4 ,  1128.13,  1212.24,  1299.73,  1390.6 ,  1484.85,\n",
       "        1582.48,  1683.49,  1787.88,  1895.65,  2006.8 ,  2121.33,\n",
       "        2239.24,  2360.53,  2485.2 ,  2613.25,  2744.68,  2879.49,\n",
       "        3017.68,  3159.25,  3304.2 ,  3452.53,  3604.24,  3759.33,\n",
       "        3917.8 ,  4079.65,  4244.88,  4413.49,  4585.48,  4760.85,\n",
       "        4939.6 ,  5121.73,  5307.24,  5496.13,  5688.4 ])"
      ]
     },
     "execution_count": 14,
     "metadata": {},
     "output_type": "execute_result"
    }
   ],
   "source": [
    "L2_loss=np.zeros(len(B))\n",
    "for k in range(len(B)):\n",
    "    L2_loss[k]=L2_loss_fun(B[k],y)\n",
    "L2_loss"
   ]
  },
  {
   "cell_type": "code",
   "execution_count": 15,
   "metadata": {},
   "outputs": [
    {
     "data": {
      "image/png": "[encoded data removed]",
      "text/plain": [
       "<matplotlib.figure.Figure at 0x24bf8a68ef0>"
      ]
     },
     "metadata": {},
     "output_type": "display_data"
    }
   ],
   "source": [
    "plt.plot(B,L2_loss)\n",
    "plt.show()"
   ]
  },
  {
   "cell_type": "code",
   "execution_count": 16,
   "metadata": {},
   "outputs": [
    {
     "data": {
      "text/plain": [
       "array([108, 112, 118, 119, 123, 128, 129, 132, 142, 143])"
      ]
     },
     "execution_count": 16,
     "metadata": {},
     "output_type": "execute_result"
    }
   ],
   "source": [
    "np.sort(y)"
   ]
  },
  {
   "cell_type": "code",
   "execution_count": null,
   "metadata": {
    "collapsed": true
   },
   "outputs": [],
   "source": []
  }
 ],
 "metadata": {
  "kernelspec": {
   "display_name": "Python 3",
   "language": "python",
   "name": "python3"
  },
  "language_info": {
   "codemirror_mode": {
    "name": "ipython",
    "version": 3
   },
   "file_extension": ".py",
   "mimetype": "text/x-python",
   "name": "python",
   "nbconvert_exporter": "python",
   "pygments_lexer": "ipython3",
   "version": "3.6.1"
  }
 },
 "nbformat": 4,
 "nbformat_minor": 2
}
