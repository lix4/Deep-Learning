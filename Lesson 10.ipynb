{
 "cells": [
  {
   "cell_type": "markdown",
   "metadata": {},
   "source": [
    "# Lesson 10 Xiwen Li"
   ]
  },
  {
   "cell_type": "code",
   "execution_count": 1,
   "metadata": {
    "collapsed": true
   },
   "outputs": [],
   "source": [
    "import numpy as np"
   ]
  },
  {
   "cell_type": "code",
   "execution_count": 2,
   "metadata": {
    "collapsed": true
   },
   "outputs": [],
   "source": [
    "def soft_max(x):\n",
    "    xmax = x.max()\n",
    "    exp_x = np.exp(x - xmax)\n",
    "    y = exp_x / exp_x.sum()\n",
    "    return y"
   ]
  },
  {
   "cell_type": "code",
   "execution_count": 3,
   "metadata": {},
   "outputs": [
    {
     "name": "stdout",
     "output_type": "stream",
     "text": [
      "x=  [-0.9588 -1.3097 -1.0671]\n",
      "y=  [ 0.3844  0.2707  0.3449]\n"
     ]
    }
   ],
   "source": [
    "# (b)\n",
    "# The outputs can be summarized to 1. And All of them are between 0 and 1\n",
    "x = -2*np.random.rand(3)\n",
    "y = soft_max(x)\n",
    "print('x= ', x.round(4))\n",
    "print('y= ', y.round(4))"
   ]
  },
  {
   "cell_type": "code",
   "execution_count": 5,
   "metadata": {},
   "outputs": [
    {
     "name": "stdout",
     "output_type": "stream",
     "text": [
      "x=  [ 26668.5258  83996.2281  54576.95  ]\n",
      "y=  [ 0.  1.  0.]\n"
     ]
    }
   ],
   "source": [
    "# (c)\n",
    "# When input values are very big and unequal, the function will be very confident about final classification\n",
    "\n",
    "x = 100000*np.random.rand(3)\n",
    "y = soft_max(x)\n",
    "print('x= ', x.round(4))\n",
    "print('y= ', y.round(4))"
   ]
  },
  {
   "cell_type": "code",
   "execution_count": 7,
   "metadata": {},
   "outputs": [
    {
     "name": "stdout",
     "output_type": "stream",
     "text": [
      "x=  [ 0.  0.  0.]\n",
      "y=  [ 0.3333  0.3333  0.3333]\n"
     ]
    }
   ],
   "source": [
    "# (d)\n",
    "# When input values are small positive and unequal, the output values are basically the same.\n",
    "\n",
    "x = 0.000000000001*np.random.rand(3)\n",
    "y = soft_max(x)\n",
    "print('x= ', x.round(4))\n",
    "print('y= ', y.round(4))"
   ]
  },
  {
   "cell_type": "code",
   "execution_count": 17,
   "metadata": {},
   "outputs": [
    {
     "name": "stdout",
     "output_type": "stream",
     "text": [
      "x=  [      -0.  1000000.       -0.]\n",
      "y=  [ 0.  1.  0.]\n"
     ]
    }
   ],
   "source": [
    "# (e)\n",
    "# When input values are large positives and large negatives, the function will be very confident about final classification.\n",
    "\n",
    "x = np.array([-0.000000001,1000000,-0.000000004324])\n",
    "y = soft_max(x)\n",
    "print('x= ', x.round(4))\n",
    "print('y= ', y.round(4))"
   ]
  },
  {
   "cell_type": "code",
   "execution_count": 20,
   "metadata": {},
   "outputs": [
    {
     "name": "stdout",
     "output_type": "stream",
     "text": [
      "x=  [  0.00000000e+00  -9.99999999e+08   0.00000000e+00]\n",
      "y=  [ 0.5  0.   0.5]\n"
     ]
    }
   ],
   "source": [
    "# (f)\n",
    "# When input values are small positives and small negatives, the output values will be the same or 0.\n",
    "\n",
    "x = np.array([0.000000001, -999999999, 0.0000001])\n",
    "y = soft_max(x)\n",
    "print('x= ', x.round(4))\n",
    "print('y= ', y.round(4))"
   ]
  },
  {
   "cell_type": "code",
   "execution_count": null,
   "metadata": {
    "collapsed": true
   },
   "outputs": [],
   "source": []
  }
 ],
 "metadata": {
  "kernelspec": {
   "display_name": "Python 3",
   "language": "python",
   "name": "python3"
  },
  "language_info": {
   "codemirror_mode": {
    "name": "ipython",
    "version": 3
   },
   "file_extension": ".py",
   "mimetype": "text/x-python",
   "name": "python",
   "nbconvert_exporter": "python",
   "pygments_lexer": "ipython3",
   "version": "3.6.1"
  }
 },
 "nbformat": 4,
 "nbformat_minor": 2
}
