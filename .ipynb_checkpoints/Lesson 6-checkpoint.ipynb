{
 "cells": [
  {
   "cell_type": "code",
   "execution_count": 1,
   "metadata": {
    "collapsed": true
   },
   "outputs": [],
   "source": [
    "import tensorflow as tf\n",
    "import numpy as np\n",
    "import matplotlib.pyplot as plt\n",
    "%matplotlib inline"
   ]
  },
  {
   "cell_type": "code",
   "execution_count": 2,
   "metadata": {},
   "outputs": [
    {
     "name": "stdout",
     "output_type": "stream",
     "text": [
      "[-0.69748583 -0.69748583  2.20870514  0.46499055  0.46499055  1.04622875\n",
      " -0.69748583 -0.69748583 -1.27872403 -0.11624764] [ 0.48648649  0.48648649  4.87837838  0.21621622  0.21621622  1.09459459\n",
      "  0.48648649  0.48648649  1.63513514  0.01351351]\n"
     ]
    }
   ],
   "source": [
    "weight = np.array([128,123,129,143,132,142,112,118,108,119])\n",
    "height = np.array([67,67,72,69,69,70,67,67,66,68])\n",
    "height_s = (height - height.mean()) / (height.std())\n",
    "height_square_s = height_s * height_s\n",
    "print(height_s, height_square_s)"
   ]
  },
  {
   "cell_type": "code",
   "execution_count": 3,
   "metadata": {
    "collapsed": true
   },
   "outputs": [],
   "source": [
    "# initialize parameters\n",
    "w1 = tf.Variable([1.0],dtype=tf.float32)\n",
    "w2 = tf.Variable([1.0],dtype=tf.float32)\n",
    "b = tf.Variable([1.0],dtype=tf.float32)"
   ]
  },
  {
   "cell_type": "code",
   "execution_count": 4,
   "metadata": {},
   "outputs": [
    {
     "data": {
      "text/plain": [
       "(<tf.Tensor 'Placeholder:0' shape=<unknown> dtype=float32>,\n",
       " <tf.Tensor 'Placeholder_1:0' shape=<unknown> dtype=float32>,\n",
       " <tf.Tensor 'Placeholder_2:0' shape=<unknown> dtype=float32>)"
      ]
     },
     "execution_count": 4,
     "metadata": {},
     "output_type": "execute_result"
    }
   ],
   "source": [
    "x1 = tf.placeholder(tf.float32)\n",
    "x2 = tf.placeholder(tf.float32)\n",
    "y = tf.placeholder(tf.float32)\n",
    "x1, x2, y"
   ]
  },
  {
   "cell_type": "code",
   "execution_count": 5,
   "metadata": {
    "collapsed": true
   },
   "outputs": [],
   "source": [
    "# define MSE\n",
    "loss = tf.reduce_mean(tf.square(y - (w1 * x1 + w2 * x2 + b)))"
   ]
  },
  {
   "cell_type": "code",
   "execution_count": 6,
   "metadata": {
    "collapsed": true
   },
   "outputs": [],
   "source": [
    "# define optimizer\n",
    "STEP_SIZE = 0.0001\n",
    "optimizer = tf.train.GradientDescentOptimizer(STEP_SIZE)\n",
    "train = optimizer.minimize(loss)\n",
    "init = tf.global_variables_initializer()"
   ]
  },
  {
   "cell_type": "code",
   "execution_count": 7,
   "metadata": {
    "collapsed": true
   },
   "outputs": [],
   "source": [
    "sess = tf.Session()\n",
    "MAXSTEPS = 100000\n",
    "MOD=10000\n",
    "#initialize all variables\n",
    "sess.run(init)"
   ]
  },
  {
   "cell_type": "code",
   "execution_count": 8,
   "metadata": {},
   "outputs": [
    {
     "name": "stdout",
     "output_type": "stream",
     "text": [
      "0 [ 1.00110519] [ 1.02418041] [ 1.02468002] 15340.1\n",
      "10000 [-9.96569157] [ 18.13794327] [ 89.54975891] 977.132\n",
      "20000 [-2.7345767] [ 7.10713053] [ 111.57816315] 273.657\n",
      "30000 [ 3.80757737] [ 1.21222675] [ 120.97491455] 101.938\n",
      "40000 [ 7.65852737] [-1.92925239] [ 125.66654205] 53.6835\n",
      "50000 [ 9.76005077] [-3.60341668] [ 128.12580872] 39.9851\n",
      "60000 [ 10.88636208] [-4.49484777] [ 129.42376709] 36.1034\n",
      "70000 [ 11.48677444] [-4.96929884] [ 130.11482239] 34.9988\n",
      "80000 [ 11.80551147] [-5.21945333] [ 130.48164368] 34.6847\n",
      "90000 [ 11.97369289] [-5.34966755] [ 130.66378784] 34.5967\n",
      "100000 [ 12.06577682] [-5.42919636] [ 130.79104614] 34.5665\n"
     ]
    }
   ],
   "source": [
    "for step in range(MAXSTEPS+1):\n",
    "    (_,w1opt,w2opt,bopt,loss_opt) = sess.run([train,w1,w2,b,loss],feed_dict={x1:height_s, x2:height_square_s, y:weight})\n",
    "    if (step % MOD) == 0:\n",
    "        print(step, w1opt, w2opt, bopt, loss_opt)"
   ]
  },
  {
   "cell_type": "code",
   "execution_count": 9,
   "metadata": {},
   "outputs": [
    {
     "data": {
      "text/plain": [
       "array([ 0.,  0.,  0.,  0.,  0.,  0.,  0.,  0.,  0.,  0.])"
      ]
     },
     "execution_count": 9,
     "metadata": {},
     "output_type": "execute_result"
    }
   ],
   "source": [
    "f_predict = np.zeros(10)\n",
    "f_predict"
   ]
  },
  {
   "cell_type": "code",
   "execution_count": 10,
   "metadata": {
    "collapsed": true
   },
   "outputs": [],
   "source": [
    "def f_pred(x):\n",
    "    return w1opt * x + w2opt * (x ** 2) + bopt"
   ]
  },
  {
   "cell_type": "code",
   "execution_count": 13,
   "metadata": {
    "collapsed": true
   },
   "outputs": [],
   "source": [
    "x = np.linspace(-1.5,3.0,101)"
   ]
  },
  {
   "cell_type": "code",
   "execution_count": 14,
   "metadata": {},
   "outputs": [
    {
     "data": {
      "image/png": "[encoded data removed]",
      "text/plain": [
       "<matplotlib.figure.Figure at 0x17028f75c88>"
      ]
     },
     "metadata": {},
     "output_type": "display_data"
    }
   ],
   "source": [
    "# predicted points (red)\n",
    "plt.plot(x, f_pred(x))\n",
    "# expected points (green)\n",
    "plt.plot(height_s, weight, 'go')\n",
    "plt.axis([-1.5, 3.0, 110, 145])\n",
    "plt.show()\n",
    "\n",
    "#Several points are in the same position."
   ]
  },
  {
   "cell_type": "code",
   "execution_count": null,
   "metadata": {
    "collapsed": true
   },
   "outputs": [],
   "source": []
  }
 ],
 "metadata": {
  "kernelspec": {
   "display_name": "Python 3",
   "language": "python",
   "name": "python3"
  },
  "language_info": {
   "codemirror_mode": {
    "name": "ipython",
    "version": 3
   },
   "file_extension": ".py",
   "mimetype": "text/x-python",
   "name": "python",
   "nbconvert_exporter": "python",
   "pygments_lexer": "ipython3",
   "version": "3.6.1"
  }
 },
 "nbformat": 4,
 "nbformat_minor": 2
}
