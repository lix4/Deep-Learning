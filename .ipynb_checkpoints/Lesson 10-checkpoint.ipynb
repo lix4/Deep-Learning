{
 "cells": [
  {
   "cell_type": "code",
   "execution_count": 9,
   "metadata": {
    "collapsed": true
   },
   "outputs": [],
   "source": [
    "import numpy as np"
   ]
  },
  {
   "cell_type": "code",
   "execution_count": 17,
   "metadata": {
    "collapsed": true
   },
   "outputs": [],
   "source": [
    "# Xiwen Li\n",
    "# Lesson 10\n",
    "\n",
    "def soft_max(x):\n",
    "    xmax = x.max()\n",
    "    exp_x = np.exp(x - xmax)\n",
    "    y = exp_x / exp_x.sum()\n",
    "    return y"
   ]
  },
  {
   "cell_type": "code",
   "execution_count": 37,
   "metadata": {},
   "outputs": [
    {
     "name": "stdout",
     "output_type": "stream",
     "text": [
      "x=  [-0.43   -0.2312 -1.8273]\n",
      "y=  [ 0.4053  0.4945  0.1002]\n"
     ]
    }
   ],
   "source": [
    "x = -2*np.random.rand(3)\n",
    "y = soft_max(x)\n",
    "print('x= ', x.round(4))\n",
    "print('y= ', y.round(4))"
   ]
  },
  {
   "cell_type": "code",
   "execution_count": null,
   "metadata": {
    "collapsed": true
   },
   "outputs": [],
   "source": []
  }
 ],
 "metadata": {
  "kernelspec": {
   "display_name": "Python 3",
   "language": "python",
   "name": "python3"
  },
  "language_info": {
   "codemirror_mode": {
    "name": "ipython",
    "version": 3
   },
   "file_extension": ".py",
   "mimetype": "text/x-python",
   "name": "python",
   "nbconvert_exporter": "python",
   "pygments_lexer": "ipython3",
   "version": "3.6.1"
  }
 },
 "nbformat": 4,
 "nbformat_minor": 2
}
