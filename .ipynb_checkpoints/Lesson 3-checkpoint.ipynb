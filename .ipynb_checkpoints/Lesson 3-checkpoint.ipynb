{
 "cells": [
  {
   "cell_type": "code",
   "execution_count": 2,
   "metadata": {},
   "outputs": [],
   "source": [
    "import numpy as np\n",
    "y = np.array([128,123,129,143,132,142,112,118,108,119])"
   ]
  },
  {
   "cell_type": "code",
   "execution_count": 3,
   "metadata": {
    "collapsed": true
   },
   "outputs": [],
   "source": [
    "def MSE(b,y):\n",
    "    return ((y-b)*(y-b)).mean()"
   ]
  },
  {
   "cell_type": "code",
   "execution_count": 4,
   "metadata": {
    "collapsed": true
   },
   "outputs": [],
   "source": [
    "def dMSE(b,y):\n",
    "    return -2*(y-b).mean()"
   ]
  },
  {
   "cell_type": "code",
   "execution_count": 5,
   "metadata": {},
   "outputs": [
    {
     "name": "stdout",
     "output_type": "stream",
     "text": [
      "1000 125.4 123.24\n"
     ]
    }
   ],
   "source": [
    "kmax=1000\n",
    "b=100\n",
    "\n",
    "learning_rate=0.5\n",
    "\n",
    "fmin=MSE(b,y)\n",
    "k=0\n",
    "\n",
    "while (MSE(b,y) <= fmin) and (k < kmax):\n",
    "    fmin=MSE(b,y)\n",
    "    b = b-dMSE(b,y)*learning_rate\n",
    "    k=k+1\n",
    "print(k,b,fmin)"
   ]
  },
  {
   "cell_type": "code",
   "execution_count": null,
   "metadata": {
    "collapsed": true
   },
   "outputs": [],
   "source": []
  }
 ],
 "metadata": {
  "kernelspec": {
   "display_name": "Python 3",
   "language": "python",
   "name": "python3"
  }
 },
 "nbformat": 4,
 "nbformat_minor": 2
}
