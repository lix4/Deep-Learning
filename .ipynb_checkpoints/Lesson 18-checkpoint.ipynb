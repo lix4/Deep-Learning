{
 "cells": [
  {
   "cell_type": "markdown",
   "metadata": {},
   "source": [
    "# Lesson 18 Xiwen Li"
   ]
  },
  {
   "cell_type": "code",
   "execution_count": 1,
   "metadata": {
    "collapsed": true
   },
   "outputs": [],
   "source": [
    "import numpy as np"
   ]
  },
  {
   "cell_type": "code",
   "execution_count": 2,
   "metadata": {
    "collapsed": true
   },
   "outputs": [],
   "source": [
    "BATCH_SIZE = 6\n",
    "EPOCHS = 2\n",
    "N = 40"
   ]
  },
  {
   "cell_type": "code",
   "execution_count": 3,
   "metadata": {
    "collapsed": true
   },
   "outputs": [],
   "source": [
    "epoch_list = None\n",
    "np.random.seed(0)"
   ]
  },
  {
   "cell_type": "code",
   "execution_count": 4,
   "metadata": {},
   "outputs": [
    {
     "name": "stdout",
     "output_type": "stream",
     "text": [
      "epoch =  1\n",
      "minibactch =  1 [37  2 32  9  7 36]\n",
      "minibactch =  2 [17 23 39  3 25 21]\n",
      "minibactch =  3 [33  1  4 34 12 11]\n",
      "minibactch =  4 [ 8 20 38 29 31 30]\n",
      "minibactch =  5 [16 13 18 28 15  5]\n",
      "minibactch =  6 [10  0 22 26 35 19]\n",
      "minibactch =  7 [14 27 24  6 37  2]\n",
      "epoch =  2\n",
      "minibactch =  1 [ 5  1  9 26 36 29]\n",
      "minibactch =  2 [32 37 21 23 27  4]\n",
      "minibactch =  3 [12 33 34 11  6  2]\n",
      "minibactch =  4 [ 3 25 28 10  0 31]\n",
      "minibactch =  5 [ 8 24 17  7 30 16]\n",
      "minibactch =  6 [20 39 22 18 35 13]\n",
      "minibactch =  7 [14 15 19 38  5  1]\n"
     ]
    }
   ],
   "source": [
    "for k in range(EPOCHS):\n",
    "    print('epoch = ', k + 1)\n",
    "    data_set = np.arange(N)\n",
    "    np.random.shuffle(data_set)\n",
    "    random_dataset = np.random.permutation(data_set)\n",
    "    final_dataset = np.append(random_dataset, [random_dataset[0], random_dataset[1]])\n",
    "    minibatch_amount = int(np.ceil(N / BATCH_SIZE))\n",
    "    final_dataset = final_dataset.reshape((minibatch_amount, BATCH_SIZE))\n",
    "    for b in range(minibatch_amount):\n",
    "        print('minibactch = ', b + 1,final_dataset[b])"
   ]
  },
  {
   "cell_type": "code",
   "execution_count": 5,
   "metadata": {},
   "outputs": [
    {
     "data": {
      "text/plain": [
       "array([33, 21, 17, 34, 10, 18, 15,  7,  5,  6,  9, 36, 20, 27, 28, 35,  1,\n",
       "       37, 30, 16, 24, 23, 25, 22, 11, 39, 32,  4,  0, 14, 29, 12,  3,  2,\n",
       "       26, 38, 31, 19,  8, 13])"
      ]
     },
     "execution_count": 5,
     "metadata": {},
     "output_type": "execute_result"
    }
   ],
   "source": [
    "perm = np.random.permutation(40)\n",
    "perm"
   ]
  },
  {
   "cell_type": "code",
   "execution_count": 6,
   "metadata": {},
   "outputs": [
    {
     "data": {
      "text/plain": [
       "array([33, 21, 17, 34, 10, 18])"
      ]
     },
     "execution_count": 6,
     "metadata": {},
     "output_type": "execute_result"
    }
   ],
   "source": [
    "perm[0:6]"
   ]
  },
  {
   "cell_type": "code",
   "execution_count": 8,
   "metadata": {},
   "outputs": [],
   "source": [
    "ix = np.arange(0,6)"
   ]
  },
  {
   "cell_type": "code",
   "execution_count": 9,
   "metadata": {},
   "outputs": [
    {
     "data": {
      "text/plain": [
       "array([15,  7,  5,  6,  9, 36])"
      ]
     },
     "execution_count": 9,
     "metadata": {},
     "output_type": "execute_result"
    }
   ],
   "source": [
    "perm[ix+k*BATCH_SIZE]"
   ]
  },
  {
   "cell_type": "code",
   "execution_count": null,
   "metadata": {
    "collapsed": true
   },
   "outputs": [],
   "source": [
    "# the end\n"
   ]
  }
 ],
 "metadata": {
  "kernelspec": {
   "display_name": "Python 3",
   "language": "python",
   "name": "python3"
  },
  "language_info": {
   "codemirror_mode": {
    "name": "ipython",
    "version": 3
   },
   "file_extension": ".py",
   "mimetype": "text/x-python",
   "name": "python",
   "nbconvert_exporter": "python",
   "pygments_lexer": "ipython3",
   "version": "3.6.1"
  }
 },
 "nbformat": 4,
 "nbformat_minor": 2
}
