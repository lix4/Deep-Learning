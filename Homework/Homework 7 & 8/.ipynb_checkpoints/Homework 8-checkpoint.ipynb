{
 "cells": [
  {
   "cell_type": "code",
   "execution_count": 5,
   "metadata": {},
   "outputs": [],
   "source": [
    "# H7_feedforward.py\n",
    "import numpy as np\n",
    "import pandas as pd\n",
    "import tensorflow as tf\n",
    "import time\n",
    "from tensorflow.contrib.data import Dataset"
   ]
  },
  {
   "cell_type": "code",
   "execution_count": 15,
   "metadata": {},
   "outputs": [
    {
     "name": "stdout",
     "output_type": "stream",
     "text": [
      "training\n",
      "(40000, 28, 28)\n",
      "(40000,)\n",
      "\n",
      "testing\n",
      "(10000, 28, 28)\n",
      "(10000,)\n"
     ]
    }
   ],
   "source": [
    "# load training and testing notMNIST data\n",
    "MNIST = np.load('./MNIST_train_40000.npz')\n",
    "images_train = MNIST['train_images']\n",
    "labels_train = MNIST['train_labels']\n",
    "MNIST = np.load('./MNIST_test_10000.npz')\n",
    "images_test  = MNIST['test_images']\n",
    "labels_test  = MNIST['test_labels']\n",
    "print('training')\n",
    "print(images_train.shape)\n",
    "print(labels_train.shape)\n",
    "print()\n",
    "print('testing')\n",
    "print(images_test.shape)\n",
    "print(labels_test.shape)"
   ]
  },
  {
   "cell_type": "code",
   "execution_count": 16,
   "metadata": {
    "collapsed": true
   },
   "outputs": [],
   "source": [
    "# define inputs and outputs\n",
    "inputs_train  = images_train.reshape(40000,28*28)\n",
    "inputs_test  = images_test.reshape(10000,28*28)\n",
    "df = pd.DataFrame(labels_train,columns=['digits'],dtype='category')\n",
    "outputs_train = pd.get_dummies(df.digits)\n",
    "df = pd.DataFrame(labels_test,columns=['digits'],dtype='category')\n",
    "outputs_test = pd.get_dummies(df.digits)"
   ]
  },
  {
   "cell_type": "code",
   "execution_count": 17,
   "metadata": {
    "collapsed": true
   },
   "outputs": [],
   "source": [
    "# define TensorFlow computation graph\n",
    "X  = tf.placeholder(dtype='float32',shape=[None,28*28])\n",
    "Xt = tf.placeholder(dtype='float32',shape=[10000,28*28])\n",
    "P  = tf.placeholder(dtype='float32',shape=[None,10])\n",
    "Pt = tf.placeholder(dtype='float32',shape=[10000,10])\n",
    "W1 = tf.Variable(tf.truncated_normal([28*28,128], stddev=0.1))\n",
    "b1 = tf.Variable(tf.truncated_normal([1,128], stddev=0.1))\n",
    "W2 = tf.Variable(tf.truncated_normal([128,128], stddev=0.1))\n",
    "b2 = tf.Variable(tf.truncated_normal([1,128], stddev=0.1))\n",
    "W3 = tf.Variable(tf.truncated_normal([128,10], stddev=0.1))\n",
    "b3 = tf.Variable(tf.truncated_normal([1,10], stddev=0.1))\n",
    "Y1  = tf.nn.relu(tf.matmul(X,W1) + b1)\n",
    "Y1t = tf.nn.relu(tf.matmul(Xt,W1) + b1)\n",
    "Y2  = tf.nn.relu(tf.matmul(Y1,W2) + b2)\n",
    "Y2t = tf.nn.relu(tf.matmul(Y1t,W2) + b2)\n",
    "Y3  = tf.matmul(Y1,W3) + b3\n",
    "Y3t = tf.matmul(Y1t,W3) + b3\n",
    "CE  = tf.reduce_mean(tf.nn.softmax_cross_entropy_with_logits(logits=Y3,labels=P))\n",
    "CEt = tf.reduce_mean(tf.nn.softmax_cross_entropy_with_logits(logits=Y3t,labels=Pt))\n",
    "optimizer = tf.train.AdamOptimizer().minimize(CE)\n",
    "Po  = tf.nn.softmax(Y3)\n",
    "Pot = tf.nn.softmax(Y3t)\n",
    "init = tf.global_variables_initializer()\n",
    "sess = tf.Session()"
   ]
  },
  {
   "cell_type": "code",
   "execution_count": 27,
   "metadata": {
    "scrolled": false
   },
   "outputs": [
    {
     "name": "stdout",
     "output_type": "stream",
     "text": [
      "step      0 of   1000  train CE 2.46149  test CE 2.42533  time remaining (min) 2.6\n"
     ]
    },
    {
     "ename": "IndexError",
     "evalue": "index 41000 is out of bounds for axis 0 with size 40000",
     "output_type": "error",
     "traceback": [
      "\u001b[1;31m---------------------------------------------------------------------------\u001b[0m",
      "\u001b[1;31mIndexError\u001b[0m                                Traceback (most recent call last)",
      "\u001b[1;32m<ipython-input-27-58b1a45aae51>\u001b[0m in \u001b[0;36m<module>\u001b[1;34m()\u001b[0m\n\u001b[0;32m     13\u001b[0m         \u001b[0mix\u001b[0m\u001b[1;33m[\u001b[0m\u001b[0mix\u001b[0m\u001b[1;33m>\u001b[0m\u001b[1;33m(\u001b[0m\u001b[0mN\u001b[0m\u001b[1;33m-\u001b[0m\u001b[1;36m1\u001b[0m\u001b[1;33m)\u001b[0m\u001b[1;33m]\u001b[0m \u001b[1;33m=\u001b[0m \u001b[0mix\u001b[0m\u001b[1;33m[\u001b[0m\u001b[0mix\u001b[0m\u001b[1;33m>\u001b[0m\u001b[1;33m(\u001b[0m\u001b[0mN\u001b[0m\u001b[1;33m-\u001b[0m\u001b[1;36m1\u001b[0m\u001b[1;33m)\u001b[0m\u001b[1;33m]\u001b[0m \u001b[1;33m-\u001b[0m \u001b[0mN\u001b[0m\u001b[1;33m\u001b[0m\u001b[0m\n\u001b[0;32m     14\u001b[0m \u001b[1;33m\u001b[0m\u001b[0m\n\u001b[1;32m---> 15\u001b[1;33m     \u001b[0minputs_train_batch\u001b[0m \u001b[1;33m=\u001b[0m \u001b[0minputs_train\u001b[0m\u001b[1;33m[\u001b[0m\u001b[0mix\u001b[0m\u001b[1;33m]\u001b[0m\u001b[1;33m\u001b[0m\u001b[0m\n\u001b[0m\u001b[0;32m     16\u001b[0m     \u001b[0moutputs_train_batch\u001b[0m \u001b[1;33m=\u001b[0m \u001b[0moutputs_train\u001b[0m\u001b[1;33m.\u001b[0m\u001b[0miloc\u001b[0m\u001b[1;33m[\u001b[0m\u001b[0mix\u001b[0m\u001b[1;33m]\u001b[0m\u001b[1;33m\u001b[0m\u001b[0m\n\u001b[0;32m     17\u001b[0m     (_,ce,cet) = sess.run([optimizer,CE,CEt],\n",
      "\u001b[1;31mIndexError\u001b[0m: index 41000 is out of bounds for axis 0 with size 40000"
     ]
    }
   ],
   "source": [
    "\n",
    "\n",
    "# run TensorFlow computation graph\n",
    "sess.run(init)\n",
    "MAXSTEPS = 1000\n",
    "MOD = MAXSTEPS/10\n",
    "time_start = time.time()\n",
    "ix = np.arange(0, 1000)\n",
    "N = 40000\n",
    "for step in range(MAXSTEPS+1):\n",
    "    if (ix > N-1).sum() != 0:\n",
    "        ix[ix>(N-1)] = ix[ix>(N-1)] - N\n",
    "    \n",
    "    inputs_train_batch = inputs_train[ix]\n",
    "    outputs_train_batch = outputs_train.iloc[ix]\n",
    "    (_,ce,cet) = sess.run([optimizer,CE,CEt],\n",
    "                          feed_dict={X:inputs_train_batch, Xt:inputs_test, P:outputs_train_batch, Pt:outputs_test})\n",
    "    if (step % MOD) == 0:\n",
    "        time_elapsed   = time.time() - time_start\n",
    "        time_per_iter  = time_elapsed/(step + 1)\n",
    "        time_remaining = (MAXSTEPS - step)*time_per_iter\n",
    "        print('step %6d of %6d  train CE %-.5f  test CE %-.5f  time remaining (min) %-.1f' % \n",
    "              (step,MAXSTEPS,ce,cet,time_remaining/60))\n"
   ]
  },
  {
   "cell_type": "code",
   "execution_count": 19,
   "metadata": {},
   "outputs": [
    {
     "name": "stdout",
     "output_type": "stream",
     "text": [
      "\n",
      "training error rate =  0.116   testing error rate =  0.126\n",
      "\n",
      "total training time (min) 0.5\n"
     ]
    }
   ],
   "source": [
    "# compute error rates\n",
    "(po,pot) = sess.run([Po,Pot],feed_dict={X:inputs_train,Xt:inputs_test})\n",
    "p  = outputs_train.values\n",
    "pt = outputs_test.values\n",
    "err_train =  (po.argmax(axis=1)  != p.argmax(axis=1)).sum().sum()\n",
    "err_test  =  (pot.argmax(axis=1) != pt.argmax(axis=1)).sum().sum()\n",
    "err_train = err_train/p.shape[0]\n",
    "err_test  = err_test/pt.shape[0]\n",
    "print()\n",
    "print('training error rate = ',err_train.round(3),'  testing error rate = ',err_test.round(3))\n",
    "print()\n",
    "time_total = time.time() - time_start\n",
    "print('total training time (min)',np.round(time_total/60,1))"
   ]
  },
  {
   "cell_type": "markdown",
   "metadata": {
    "collapsed": true
   },
   "source": [
    "#### batch_size  total_training_time   testing_error_rate\n",
    "#### 40000            17.3                             0.033\n",
    "#### 1000               0.5                               0.126"
   ]
  },
  {
   "cell_type": "markdown",
   "metadata": {},
   "source": [
    "## (2)"
   ]
  },
  {
   "cell_type": "markdown",
   "metadata": {},
   "source": [
    "#### key points:\n",
    "#### (1) deep learning is widely applied\n",
    "#### (2) the relationship between machine learning and deep learning\n",
    "#### (3) future of deep learning\n",
    "#### (4) supervised learning and unsupervised learning\n",
    "#### (5) some possible projects of deep learning\n",
    "####      Some of them are realized, while some are not or even cannot be realized"
   ]
  },
  {
   "cell_type": "markdown",
   "metadata": {},
   "source": [
    "#### project ideas:\n",
    "#### Image Description\n",
    "#### Speech Recognition\n",
    "#### Translation"
   ]
  },
  {
   "cell_type": "code",
   "execution_count": null,
   "metadata": {
    "collapsed": true
   },
   "outputs": [],
   "source": []
  }
 ],
 "metadata": {
  "kernelspec": {
   "display_name": "Python 3",
   "language": "python",
   "name": "python3"
  },
  "language_info": {
   "codemirror_mode": {
    "name": "ipython",
    "version": 3
   },
   "file_extension": ".py",
   "mimetype": "text/x-python",
   "name": "python",
   "nbconvert_exporter": "python",
   "pygments_lexer": "ipython3",
   "version": "3.6.1"
  }
 },
 "nbformat": 4,
 "nbformat_minor": 2
}
