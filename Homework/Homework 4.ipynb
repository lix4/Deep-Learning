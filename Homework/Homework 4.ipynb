{
 "cells": [
  {
   "cell_type": "code",
   "execution_count": 1,
   "metadata": {
    "collapsed": true
   },
   "outputs": [],
   "source": [
    "import tensorflow as tf\n",
    "import pandas as pd\n",
    "import numpy as np\n",
    "import matplotlib.pyplot as plt\n",
    "%matplotlib inline"
   ]
  },
  {
   "cell_type": "code",
   "execution_count": 2,
   "metadata": {},
   "outputs": [
    {
     "data": {
      "text/html": [
       "<div>\n",
       "<style>\n",
       "    .dataframe thead tr:only-child th {\n",
       "        text-align: right;\n",
       "    }\n",
       "\n",
       "    .dataframe thead th {\n",
       "        text-align: left;\n",
       "    }\n",
       "\n",
       "    .dataframe tbody tr th {\n",
       "        vertical-align: top;\n",
       "    }\n",
       "</style>\n",
       "<table border=\"1\" class=\"dataframe\">\n",
       "  <thead>\n",
       "    <tr style=\"text-align: right;\">\n",
       "      <th></th>\n",
       "      <th>Date</th>\n",
       "      <th>A</th>\n",
       "      <th>AA</th>\n",
       "      <th>AAPL</th>\n",
       "      <th>ABC</th>\n",
       "      <th>ABT</th>\n",
       "      <th>ACS</th>\n",
       "      <th>ADBE</th>\n",
       "      <th>ADI</th>\n",
       "      <th>ADM</th>\n",
       "      <th>...</th>\n",
       "      <th>X</th>\n",
       "      <th>XEL</th>\n",
       "      <th>XL</th>\n",
       "      <th>XLNX</th>\n",
       "      <th>XOM</th>\n",
       "      <th>XRAY</th>\n",
       "      <th>XRX</th>\n",
       "      <th>YHOO</th>\n",
       "      <th>YUM</th>\n",
       "      <th>ZION</th>\n",
       "    </tr>\n",
       "  </thead>\n",
       "  <tbody>\n",
       "    <tr>\n",
       "      <th>0</th>\n",
       "      <td>2000-01-03</td>\n",
       "      <td>46.354670</td>\n",
       "      <td>30.172580</td>\n",
       "      <td>3.660058</td>\n",
       "      <td>3.326019</td>\n",
       "      <td>9.639804</td>\n",
       "      <td>0.019</td>\n",
       "      <td>16.274667</td>\n",
       "      <td>32.947692</td>\n",
       "      <td>7.912229</td>\n",
       "      <td>...</td>\n",
       "      <td>25.380447</td>\n",
       "      <td>8.810155</td>\n",
       "      <td>32.639550</td>\n",
       "      <td>35.933610</td>\n",
       "      <td>26.056526</td>\n",
       "      <td>7.151686</td>\n",
       "      <td>19.207609</td>\n",
       "      <td>118.750000</td>\n",
       "      <td>7.452527</td>\n",
       "      <td>43.820247</td>\n",
       "    </tr>\n",
       "    <tr>\n",
       "      <th>1</th>\n",
       "      <td>2000-01-04</td>\n",
       "      <td>42.813681</td>\n",
       "      <td>30.312376</td>\n",
       "      <td>3.351477</td>\n",
       "      <td>3.098946</td>\n",
       "      <td>9.364382</td>\n",
       "      <td>0.019</td>\n",
       "      <td>14.909395</td>\n",
       "      <td>31.280900</td>\n",
       "      <td>7.829816</td>\n",
       "      <td>...</td>\n",
       "      <td>24.433043</td>\n",
       "      <td>9.013020</td>\n",
       "      <td>31.170373</td>\n",
       "      <td>35.116937</td>\n",
       "      <td>25.557438</td>\n",
       "      <td>7.151686</td>\n",
       "      <td>18.314232</td>\n",
       "      <td>110.750000</td>\n",
       "      <td>7.302727</td>\n",
       "      <td>41.698321</td>\n",
       "    </tr>\n",
       "    <tr>\n",
       "      <th>2</th>\n",
       "      <td>2000-01-05</td>\n",
       "      <td>40.157947</td>\n",
       "      <td>32.059823</td>\n",
       "      <td>3.400523</td>\n",
       "      <td>3.339381</td>\n",
       "      <td>9.347165</td>\n",
       "      <td>0.019</td>\n",
       "      <td>15.204175</td>\n",
       "      <td>31.737555</td>\n",
       "      <td>7.706187</td>\n",
       "      <td>...</td>\n",
       "      <td>24.682360</td>\n",
       "      <td>9.360790</td>\n",
       "      <td>31.448326</td>\n",
       "      <td>34.348304</td>\n",
       "      <td>26.950724</td>\n",
       "      <td>7.275321</td>\n",
       "      <td>19.257241</td>\n",
       "      <td>102.625000</td>\n",
       "      <td>7.340181</td>\n",
       "      <td>41.648973</td>\n",
       "    </tr>\n",
       "    <tr>\n",
       "      <th>3</th>\n",
       "      <td>2000-01-06</td>\n",
       "      <td>38.628883</td>\n",
       "      <td>31.640436</td>\n",
       "      <td>3.106247</td>\n",
       "      <td>3.593170</td>\n",
       "      <td>9.674231</td>\n",
       "      <td>0.019</td>\n",
       "      <td>15.328291</td>\n",
       "      <td>30.869910</td>\n",
       "      <td>7.747397</td>\n",
       "      <td>...</td>\n",
       "      <td>24.831950</td>\n",
       "      <td>9.273847</td>\n",
       "      <td>31.686571</td>\n",
       "      <td>31.369849</td>\n",
       "      <td>28.344010</td>\n",
       "      <td>7.284835</td>\n",
       "      <td>18.860185</td>\n",
       "      <td>92.046875</td>\n",
       "      <td>7.277768</td>\n",
       "      <td>42.241139</td>\n",
       "    </tr>\n",
       "    <tr>\n",
       "      <th>4</th>\n",
       "      <td>2000-01-07</td>\n",
       "      <td>41.847960</td>\n",
       "      <td>31.547238</td>\n",
       "      <td>3.253385</td>\n",
       "      <td>4.060687</td>\n",
       "      <td>9.777515</td>\n",
       "      <td>0.019</td>\n",
       "      <td>16.072985</td>\n",
       "      <td>31.737555</td>\n",
       "      <td>7.871019</td>\n",
       "      <td>...</td>\n",
       "      <td>25.480174</td>\n",
       "      <td>9.273847</td>\n",
       "      <td>33.791067</td>\n",
       "      <td>34.924779</td>\n",
       "      <td>28.260829</td>\n",
       "      <td>7.265808</td>\n",
       "      <td>19.306873</td>\n",
       "      <td>101.812500</td>\n",
       "      <td>7.115481</td>\n",
       "      <td>42.339833</td>\n",
       "    </tr>\n",
       "  </tbody>\n",
       "</table>\n",
       "<p>5 rows × 468 columns</p>\n",
       "</div>"
      ],
      "text/plain": [
       "         Date          A         AA      AAPL       ABC       ABT    ACS  \\\n",
       "0  2000-01-03  46.354670  30.172580  3.660058  3.326019  9.639804  0.019   \n",
       "1  2000-01-04  42.813681  30.312376  3.351477  3.098946  9.364382  0.019   \n",
       "2  2000-01-05  40.157947  32.059823  3.400523  3.339381  9.347165  0.019   \n",
       "3  2000-01-06  38.628883  31.640436  3.106247  3.593170  9.674231  0.019   \n",
       "4  2000-01-07  41.847960  31.547238  3.253385  4.060687  9.777515  0.019   \n",
       "\n",
       "        ADBE        ADI       ADM    ...              X       XEL         XL  \\\n",
       "0  16.274667  32.947692  7.912229    ...      25.380447  8.810155  32.639550   \n",
       "1  14.909395  31.280900  7.829816    ...      24.433043  9.013020  31.170373   \n",
       "2  15.204175  31.737555  7.706187    ...      24.682360  9.360790  31.448326   \n",
       "3  15.328291  30.869910  7.747397    ...      24.831950  9.273847  31.686571   \n",
       "4  16.072985  31.737555  7.871019    ...      25.480174  9.273847  33.791067   \n",
       "\n",
       "        XLNX        XOM      XRAY        XRX        YHOO       YUM       ZION  \n",
       "0  35.933610  26.056526  7.151686  19.207609  118.750000  7.452527  43.820247  \n",
       "1  35.116937  25.557438  7.151686  18.314232  110.750000  7.302727  41.698321  \n",
       "2  34.348304  26.950724  7.275321  19.257241  102.625000  7.340181  41.648973  \n",
       "3  31.369849  28.344010  7.284835  18.860185   92.046875  7.277768  42.241139  \n",
       "4  34.924779  28.260829  7.265808  19.306873  101.812500  7.115481  42.339833  \n",
       "\n",
       "[5 rows x 468 columns]"
      ]
     },
     "execution_count": 2,
     "metadata": {},
     "output_type": "execute_result"
    }
   ],
   "source": [
    "df = pd.read_csv('.\\AdjustedClosingPrices.csv')\n",
    "df.head(5)"
   ]
  },
  {
   "cell_type": "code",
   "execution_count": 3,
   "metadata": {
    "collapsed": true
   },
   "outputs": [],
   "source": [
    "df['Date'] = pd.to_datetime(df.Date)"
   ]
  },
  {
   "cell_type": "code",
   "execution_count": 4,
   "metadata": {},
   "outputs": [
    {
     "data": {
      "text/html": [
       "<div>\n",
       "<style>\n",
       "    .dataframe thead tr:only-child th {\n",
       "        text-align: right;\n",
       "    }\n",
       "\n",
       "    .dataframe thead th {\n",
       "        text-align: left;\n",
       "    }\n",
       "\n",
       "    .dataframe tbody tr th {\n",
       "        vertical-align: top;\n",
       "    }\n",
       "</style>\n",
       "<table border=\"1\" class=\"dataframe\">\n",
       "  <thead>\n",
       "    <tr style=\"text-align: right;\">\n",
       "      <th></th>\n",
       "      <th>A</th>\n",
       "      <th>AA</th>\n",
       "      <th>AAPL</th>\n",
       "      <th>ABC</th>\n",
       "      <th>ABT</th>\n",
       "      <th>ACS</th>\n",
       "      <th>ADBE</th>\n",
       "      <th>ADI</th>\n",
       "      <th>ADM</th>\n",
       "      <th>ADP</th>\n",
       "      <th>...</th>\n",
       "      <th>X</th>\n",
       "      <th>XEL</th>\n",
       "      <th>XL</th>\n",
       "      <th>XLNX</th>\n",
       "      <th>XOM</th>\n",
       "      <th>XRAY</th>\n",
       "      <th>XRX</th>\n",
       "      <th>YHOO</th>\n",
       "      <th>YUM</th>\n",
       "      <th>ZION</th>\n",
       "    </tr>\n",
       "    <tr>\n",
       "      <th>Date</th>\n",
       "      <th></th>\n",
       "      <th></th>\n",
       "      <th></th>\n",
       "      <th></th>\n",
       "      <th></th>\n",
       "      <th></th>\n",
       "      <th></th>\n",
       "      <th></th>\n",
       "      <th></th>\n",
       "      <th></th>\n",
       "      <th></th>\n",
       "      <th></th>\n",
       "      <th></th>\n",
       "      <th></th>\n",
       "      <th></th>\n",
       "      <th></th>\n",
       "      <th></th>\n",
       "      <th></th>\n",
       "      <th></th>\n",
       "      <th></th>\n",
       "      <th></th>\n",
       "    </tr>\n",
       "  </thead>\n",
       "  <tbody>\n",
       "    <tr>\n",
       "      <th>2000-01-03</th>\n",
       "      <td>46.354670</td>\n",
       "      <td>30.172580</td>\n",
       "      <td>3.660058</td>\n",
       "      <td>3.326019</td>\n",
       "      <td>9.639804</td>\n",
       "      <td>0.019</td>\n",
       "      <td>16.274667</td>\n",
       "      <td>32.947692</td>\n",
       "      <td>7.912229</td>\n",
       "      <td>29.184633</td>\n",
       "      <td>...</td>\n",
       "      <td>25.380447</td>\n",
       "      <td>8.810155</td>\n",
       "      <td>32.639550</td>\n",
       "      <td>35.933610</td>\n",
       "      <td>26.056526</td>\n",
       "      <td>7.151686</td>\n",
       "      <td>19.207609</td>\n",
       "      <td>118.750000</td>\n",
       "      <td>7.452527</td>\n",
       "      <td>43.820247</td>\n",
       "    </tr>\n",
       "    <tr>\n",
       "      <th>2000-01-04</th>\n",
       "      <td>42.813681</td>\n",
       "      <td>30.312376</td>\n",
       "      <td>3.351477</td>\n",
       "      <td>3.098946</td>\n",
       "      <td>9.364382</td>\n",
       "      <td>0.019</td>\n",
       "      <td>14.909395</td>\n",
       "      <td>31.280900</td>\n",
       "      <td>7.829816</td>\n",
       "      <td>29.184633</td>\n",
       "      <td>...</td>\n",
       "      <td>24.433043</td>\n",
       "      <td>9.013020</td>\n",
       "      <td>31.170373</td>\n",
       "      <td>35.116937</td>\n",
       "      <td>25.557438</td>\n",
       "      <td>7.151686</td>\n",
       "      <td>18.314232</td>\n",
       "      <td>110.750000</td>\n",
       "      <td>7.302727</td>\n",
       "      <td>41.698321</td>\n",
       "    </tr>\n",
       "    <tr>\n",
       "      <th>2000-01-05</th>\n",
       "      <td>40.157947</td>\n",
       "      <td>32.059823</td>\n",
       "      <td>3.400523</td>\n",
       "      <td>3.339381</td>\n",
       "      <td>9.347165</td>\n",
       "      <td>0.019</td>\n",
       "      <td>15.204175</td>\n",
       "      <td>31.737555</td>\n",
       "      <td>7.706187</td>\n",
       "      <td>28.904013</td>\n",
       "      <td>...</td>\n",
       "      <td>24.682360</td>\n",
       "      <td>9.360790</td>\n",
       "      <td>31.448326</td>\n",
       "      <td>34.348304</td>\n",
       "      <td>26.950724</td>\n",
       "      <td>7.275321</td>\n",
       "      <td>19.257241</td>\n",
       "      <td>102.625000</td>\n",
       "      <td>7.340181</td>\n",
       "      <td>41.648973</td>\n",
       "    </tr>\n",
       "    <tr>\n",
       "      <th>2000-01-06</th>\n",
       "      <td>38.628883</td>\n",
       "      <td>31.640436</td>\n",
       "      <td>3.106247</td>\n",
       "      <td>3.593170</td>\n",
       "      <td>9.674231</td>\n",
       "      <td>0.019</td>\n",
       "      <td>15.328291</td>\n",
       "      <td>30.869910</td>\n",
       "      <td>7.747397</td>\n",
       "      <td>29.289867</td>\n",
       "      <td>...</td>\n",
       "      <td>24.831950</td>\n",
       "      <td>9.273847</td>\n",
       "      <td>31.686571</td>\n",
       "      <td>31.369849</td>\n",
       "      <td>28.344010</td>\n",
       "      <td>7.284835</td>\n",
       "      <td>18.860185</td>\n",
       "      <td>92.046875</td>\n",
       "      <td>7.277768</td>\n",
       "      <td>42.241139</td>\n",
       "    </tr>\n",
       "  </tbody>\n",
       "</table>\n",
       "<p>4 rows × 467 columns</p>\n",
       "</div>"
      ],
      "text/plain": [
       "                    A         AA      AAPL       ABC       ABT    ACS  \\\n",
       "Date                                                                    \n",
       "2000-01-03  46.354670  30.172580  3.660058  3.326019  9.639804  0.019   \n",
       "2000-01-04  42.813681  30.312376  3.351477  3.098946  9.364382  0.019   \n",
       "2000-01-05  40.157947  32.059823  3.400523  3.339381  9.347165  0.019   \n",
       "2000-01-06  38.628883  31.640436  3.106247  3.593170  9.674231  0.019   \n",
       "\n",
       "                 ADBE        ADI       ADM        ADP    ...              X  \\\n",
       "Date                                                     ...                  \n",
       "2000-01-03  16.274667  32.947692  7.912229  29.184633    ...      25.380447   \n",
       "2000-01-04  14.909395  31.280900  7.829816  29.184633    ...      24.433043   \n",
       "2000-01-05  15.204175  31.737555  7.706187  28.904013    ...      24.682360   \n",
       "2000-01-06  15.328291  30.869910  7.747397  29.289867    ...      24.831950   \n",
       "\n",
       "                 XEL         XL       XLNX        XOM      XRAY        XRX  \\\n",
       "Date                                                                         \n",
       "2000-01-03  8.810155  32.639550  35.933610  26.056526  7.151686  19.207609   \n",
       "2000-01-04  9.013020  31.170373  35.116937  25.557438  7.151686  18.314232   \n",
       "2000-01-05  9.360790  31.448326  34.348304  26.950724  7.275321  19.257241   \n",
       "2000-01-06  9.273847  31.686571  31.369849  28.344010  7.284835  18.860185   \n",
       "\n",
       "                  YHOO       YUM       ZION  \n",
       "Date                                         \n",
       "2000-01-03  118.750000  7.452527  43.820247  \n",
       "2000-01-04  110.750000  7.302727  41.698321  \n",
       "2000-01-05  102.625000  7.340181  41.648973  \n",
       "2000-01-06   92.046875  7.277768  42.241139  \n",
       "\n",
       "[4 rows x 467 columns]"
      ]
     },
     "execution_count": 4,
     "metadata": {},
     "output_type": "execute_result"
    }
   ],
   "source": [
    "df = df.set_index('Date')\n",
    "df.head(4)"
   ]
  },
  {
   "cell_type": "code",
   "execution_count": 5,
   "metadata": {},
   "outputs": [
    {
     "data": {
      "text/plain": [
       "184024"
      ]
     },
     "execution_count": 5,
     "metadata": {},
     "output_type": "execute_result"
    }
   ],
   "source": [
    "df.isnull().sum().sum()"
   ]
  },
  {
   "cell_type": "code",
   "execution_count": 6,
   "metadata": {
    "collapsed": true
   },
   "outputs": [],
   "source": [
    "df1 = df.replace(0, np.nan)"
   ]
  },
  {
   "cell_type": "code",
   "execution_count": 7,
   "metadata": {},
   "outputs": [
    {
     "data": {
      "text/plain": [
       "0"
      ]
     },
     "execution_count": 7,
     "metadata": {},
     "output_type": "execute_result"
    }
   ],
   "source": [
    "# fill the missing value\n",
    "# axis = 0 is add by column 1 means filling by rows\n",
    "df2 = df1.fillna(method='ffill',axis=0).fillna(method='bfill',axis=0)\n",
    "df2.isnull().sum().sum()"
   ]
  },
  {
   "cell_type": "code",
   "execution_count": 8,
   "metadata": {},
   "outputs": [
    {
     "data": {
      "text/plain": [
       "0"
      ]
     },
     "execution_count": 8,
     "metadata": {},
     "output_type": "execute_result"
    }
   ],
   "source": [
    "# If the price is 0, change that to \n",
    "df_log = np.log(df2)\n",
    "df_log.isnull().sum().sum()"
   ]
  },
  {
   "cell_type": "code",
   "execution_count": 9,
   "metadata": {
    "collapsed": true
   },
   "outputs": [],
   "source": [
    "df_r = df_log - df_log.shift()"
   ]
  },
  {
   "cell_type": "code",
   "execution_count": 10,
   "metadata": {},
   "outputs": [
    {
     "data": {
      "text/plain": [
       "467"
      ]
     },
     "execution_count": 10,
     "metadata": {},
     "output_type": "execute_result"
    }
   ],
   "source": [
    "df_r.isnull().sum().sum()"
   ]
  },
  {
   "cell_type": "code",
   "execution_count": 11,
   "metadata": {},
   "outputs": [
    {
     "data": {
      "text/plain": [
       "0"
      ]
     },
     "execution_count": 11,
     "metadata": {},
     "output_type": "execute_result"
    }
   ],
   "source": [
    "# drop the first row\n",
    "df_r1 = df_r.drop(df_r.index[0])\n",
    "df_r1.isnull().sum().sum()"
   ]
  },
  {
   "cell_type": "code",
   "execution_count": 12,
   "metadata": {
    "collapsed": true
   },
   "outputs": [],
   "source": [
    "today = df_r1.shift(periods=1)[2:]\n",
    "tomorrow = df_r1[2:]"
   ]
  },
  {
   "cell_type": "code",
   "execution_count": 13,
   "metadata": {},
   "outputs": [
    {
     "data": {
      "text/plain": [
       "(4170, 467)"
      ]
     },
     "execution_count": 13,
     "metadata": {},
     "output_type": "execute_result"
    }
   ],
   "source": [
    "today_s = today.values\n",
    "today_s.shape"
   ]
  },
  {
   "cell_type": "code",
   "execution_count": 14,
   "metadata": {},
   "outputs": [
    {
     "data": {
      "text/plain": [
       "(4170, 467)"
      ]
     },
     "execution_count": 14,
     "metadata": {},
     "output_type": "execute_result"
    }
   ],
   "source": [
    "tomorrow_s = tomorrow.values\n",
    "tomorrow_s.shape"
   ]
  },
  {
   "cell_type": "code",
   "execution_count": 15,
   "metadata": {
    "collapsed": true
   },
   "outputs": [],
   "source": [
    "# initialize parameters\n",
    "w = tf.Variable(tf.random_normal([467, 467] ,stddev = 1))\n",
    "b = tf.Variable(tf.random_normal([1, 467] ,stddev = 1))"
   ]
  },
  {
   "cell_type": "code",
   "execution_count": 16,
   "metadata": {
    "collapsed": true
   },
   "outputs": [],
   "source": [
    "x = tf.placeholder(tf.float32, shape=(4170, 467))\n",
    "y = tf.placeholder(tf.float32, shape=(4170, 467))"
   ]
  },
  {
   "cell_type": "code",
   "execution_count": 19,
   "metadata": {},
   "outputs": [],
   "source": [
    "loss = tf.reduce_mean(tf.square(y - (tf.matmul(x,w) + b)))"
   ]
  },
  {
   "cell_type": "code",
   "execution_count": 20,
   "metadata": {
    "collapsed": true
   },
   "outputs": [],
   "source": [
    "# define optimizer\n",
    "optimizer = tf.train.AdamOptimizer(learning_rate = 0.01)\n",
    "train = optimizer.minimize(loss)\n",
    "init = tf.global_variables_initializer()"
   ]
  },
  {
   "cell_type": "code",
   "execution_count": 21,
   "metadata": {
    "collapsed": true
   },
   "outputs": [],
   "source": [
    "sess = tf.Session()\n",
    "MAXSTEPS = 2000\n",
    "MOD=1000\n",
    "#initialize all variables\n",
    "sess.run(init)"
   ]
  },
  {
   "cell_type": "code",
   "execution_count": 22,
   "metadata": {
    "scrolled": false
   },
   "outputs": [
    {
     "name": "stdout",
     "output_type": "stream",
     "text": [
      "0 3.9873\n",
      "1000 0.00517839\n",
      "2000 0.00487922\n"
     ]
    }
   ],
   "source": [
    "for step in range(MAXSTEPS+1):\n",
    "    (_,wopt,bopt,loss_opt) = sess.run([train,w ,b,loss],feed_dict={x:today_s, y:tomorrow_s})\n",
    "    if (step % MOD) == 0:\n",
    "        print(step, loss_opt)"
   ]
  },
  {
   "cell_type": "code",
   "execution_count": 23,
   "metadata": {},
   "outputs": [
    {
     "data": {
      "text/plain": [
       "0.0067300712005412978"
      ]
     },
     "execution_count": 23,
     "metadata": {},
     "output_type": "execute_result"
    }
   ],
   "source": [
    "tomorrow_s.var()"
   ]
  },
  {
   "cell_type": "code",
   "execution_count": null,
   "metadata": {
    "collapsed": true
   },
   "outputs": [],
   "source": []
  },
  {
   "cell_type": "code",
   "execution_count": null,
   "metadata": {
    "collapsed": true
   },
   "outputs": [],
   "source": []
  },
  {
   "cell_type": "code",
   "execution_count": null,
   "metadata": {
    "collapsed": true
   },
   "outputs": [],
   "source": []
  },
  {
   "cell_type": "code",
   "execution_count": null,
   "metadata": {
    "collapsed": true
   },
   "outputs": [],
   "source": []
  },
  {
   "cell_type": "code",
   "execution_count": null,
   "metadata": {
    "collapsed": true
   },
   "outputs": [],
   "source": []
  },
  {
   "cell_type": "code",
   "execution_count": null,
   "metadata": {
    "collapsed": true
   },
   "outputs": [],
   "source": []
  },
  {
   "cell_type": "code",
   "execution_count": null,
   "metadata": {
    "collapsed": true
   },
   "outputs": [],
   "source": []
  },
  {
   "cell_type": "code",
   "execution_count": null,
   "metadata": {
    "collapsed": true
   },
   "outputs": [],
   "source": []
  },
  {
   "cell_type": "code",
   "execution_count": null,
   "metadata": {
    "collapsed": true
   },
   "outputs": [],
   "source": []
  }
 ],
 "metadata": {
  "kernelspec": {
   "display_name": "Python 3",
   "language": "python",
   "name": "python3"
  },
  "language_info": {
   "codemirror_mode": {
    "name": "ipython",
    "version": 3
   },
   "file_extension": ".py",
   "mimetype": "text/x-python",
   "name": "python",
   "nbconvert_exporter": "python",
   "pygments_lexer": "ipython3",
   "version": "3.6.1"
  }
 },
 "nbformat": 4,
 "nbformat_minor": 2
}
