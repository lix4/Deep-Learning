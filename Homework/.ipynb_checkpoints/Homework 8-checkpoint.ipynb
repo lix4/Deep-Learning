{
 "cells": [
  {
   "cell_type": "code",
   "execution_count": 1,
   "metadata": {
    "collapsed": true
   },
   "outputs": [],
   "source": [
    "# H7_feedforward.py\n",
    "import numpy as np\n",
    "import pandas as pd\n",
    "import tensorflow as tf\n",
    "import time"
   ]
  },
  {
   "cell_type": "code",
   "execution_count": 4,
   "metadata": {},
   "outputs": [
    {
     "ename": "FileNotFoundError",
     "evalue": "[Errno 2] No such file or directory: './MNIST_train_40000.npz'",
     "output_type": "error",
     "traceback": [
      "\u001b[1;31m---------------------------------------------------------------------------\u001b[0m",
      "\u001b[1;31mFileNotFoundError\u001b[0m                         Traceback (most recent call last)",
      "\u001b[1;32m<ipython-input-4-edf64d9f3370>\u001b[0m in \u001b[0;36m<module>\u001b[1;34m()\u001b[0m\n\u001b[0;32m      1\u001b[0m \u001b[1;31m# load training and testing notMNIST data\u001b[0m\u001b[1;33m\u001b[0m\u001b[1;33m\u001b[0m\u001b[0m\n\u001b[1;32m----> 2\u001b[1;33m \u001b[0mMNIST\u001b[0m \u001b[1;33m=\u001b[0m \u001b[0mnp\u001b[0m\u001b[1;33m.\u001b[0m\u001b[0mload\u001b[0m\u001b[1;33m(\u001b[0m\u001b[1;34m'./MNIST_train_40000.npz'\u001b[0m\u001b[1;33m)\u001b[0m\u001b[1;33m\u001b[0m\u001b[0m\n\u001b[0m\u001b[0;32m      3\u001b[0m \u001b[0mimages_train\u001b[0m \u001b[1;33m=\u001b[0m \u001b[0mMNIST\u001b[0m\u001b[1;33m[\u001b[0m\u001b[1;34m'train_images'\u001b[0m\u001b[1;33m]\u001b[0m\u001b[1;33m\u001b[0m\u001b[0m\n\u001b[0;32m      4\u001b[0m \u001b[0mlabels_train\u001b[0m \u001b[1;33m=\u001b[0m \u001b[0mMNIST\u001b[0m\u001b[1;33m[\u001b[0m\u001b[1;34m'train_labels'\u001b[0m\u001b[1;33m]\u001b[0m\u001b[1;33m\u001b[0m\u001b[0m\n\u001b[0;32m      5\u001b[0m \u001b[0mMNIST\u001b[0m \u001b[1;33m=\u001b[0m \u001b[0mnp\u001b[0m\u001b[1;33m.\u001b[0m\u001b[0mload\u001b[0m\u001b[1;33m(\u001b[0m\u001b[1;34m'./MNIST_test_10000.npz'\u001b[0m\u001b[1;33m)\u001b[0m\u001b[1;33m\u001b[0m\u001b[0m\n",
      "\u001b[1;32md:\\anaconda3\\envs\\tensorflow\\lib\\site-packages\\numpy\\lib\\npyio.py\u001b[0m in \u001b[0;36mload\u001b[1;34m(file, mmap_mode, allow_pickle, fix_imports, encoding)\u001b[0m\n\u001b[0;32m    368\u001b[0m     \u001b[0mown_fid\u001b[0m \u001b[1;33m=\u001b[0m \u001b[1;32mFalse\u001b[0m\u001b[1;33m\u001b[0m\u001b[0m\n\u001b[0;32m    369\u001b[0m     \u001b[1;32mif\u001b[0m \u001b[0misinstance\u001b[0m\u001b[1;33m(\u001b[0m\u001b[0mfile\u001b[0m\u001b[1;33m,\u001b[0m \u001b[0mbasestring\u001b[0m\u001b[1;33m)\u001b[0m\u001b[1;33m:\u001b[0m\u001b[1;33m\u001b[0m\u001b[0m\n\u001b[1;32m--> 370\u001b[1;33m         \u001b[0mfid\u001b[0m \u001b[1;33m=\u001b[0m \u001b[0mopen\u001b[0m\u001b[1;33m(\u001b[0m\u001b[0mfile\u001b[0m\u001b[1;33m,\u001b[0m \u001b[1;34m\"rb\"\u001b[0m\u001b[1;33m)\u001b[0m\u001b[1;33m\u001b[0m\u001b[0m\n\u001b[0m\u001b[0;32m    371\u001b[0m         \u001b[0mown_fid\u001b[0m \u001b[1;33m=\u001b[0m \u001b[1;32mTrue\u001b[0m\u001b[1;33m\u001b[0m\u001b[0m\n\u001b[0;32m    372\u001b[0m     \u001b[1;32melif\u001b[0m \u001b[0mis_pathlib_path\u001b[0m\u001b[1;33m(\u001b[0m\u001b[0mfile\u001b[0m\u001b[1;33m)\u001b[0m\u001b[1;33m:\u001b[0m\u001b[1;33m\u001b[0m\u001b[0m\n",
      "\u001b[1;31mFileNotFoundError\u001b[0m: [Errno 2] No such file or directory: './MNIST_train_40000.npz'"
     ]
    }
   ],
   "source": [
    "# load training and testing notMNIST data\n",
    "MNIST = np.load('./MNIST_train_40000.npz')\n",
    "images_train = MNIST['train_images']\n",
    "labels_train = MNIST['train_labels']\n",
    "MNIST = np.load('./MNIST_test_10000.npz')\n",
    "images_test  = MNIST['test_images']\n",
    "labels_test  = MNIST['test_labels']\n",
    "print('training')\n",
    "print(images_train.shape)\n",
    "print(labels_train.shape)\n",
    "print()\n",
    "print('testing')\n",
    "print(images_test.shape)\n",
    "print(labels_test.shape)"
   ]
  },
  {
   "cell_type": "code",
   "execution_count": null,
   "metadata": {
    "collapsed": true
   },
   "outputs": [],
   "source": [
    "# define inputs and outputs\n",
    "inputs_train  = images_train.reshape(40000,28*28)\n",
    "inputs_test  = images_test.reshape(10000,28*28)\n",
    "df = pd.DataFrame(labels_train,columns=['digits'],dtype='category')\n",
    "outputs_train = pd.get_dummies(df.digits)\n",
    "df = pd.DataFrame(labels_test,columns=['digits'],dtype='category')\n",
    "outputs_test = pd.get_dummies(df.digits)"
   ]
  },
  {
   "cell_type": "code",
   "execution_count": null,
   "metadata": {
    "collapsed": true
   },
   "outputs": [],
   "source": [
    "# define TensorFlow computation graph\n",
    "X  = tf.placeholder(dtype='float32',shape=[40000,28*28])\n",
    "Xt = tf.placeholder(dtype='float32',shape=[10000,28*28])\n",
    "P  = tf.placeholder(dtype='float32',shape=[40000,10])\n",
    "Pt = tf.placeholder(dtype='float32',shape=[10000,10])\n",
    "W1 = tf.Variable(tf.truncated_normal([28*28,128], stddev=0.1))\n",
    "b1 = tf.Variable(tf.truncated_normal([1,128], stddev=0.1))\n",
    "W2 = tf.Variable(tf.truncated_normal([128,128], stddev=0.1))\n",
    "b2 = tf.Variable(tf.truncated_normal([1,128], stddev=0.1))\n",
    "W3 = tf.Variable(tf.truncated_normal([128,10], stddev=0.1))\n",
    "b3 = tf.Variable(tf.truncated_normal([1,10], stddev=0.1))\n",
    "Y1  = tf.nn.relu(tf.matmul(X,W1) + b1)\n",
    "Y1t = tf.nn.relu(tf.matmul(Xt,W1) + b1)\n",
    "Y2  = tf.nn.relu(tf.matmul(Y1,W2) + b2)\n",
    "Y2t = tf.nn.relu(tf.matmul(Y1t,W2) + b2)\n",
    "Y3  = tf.matmul(Y1,W3) + b3\n",
    "Y3t = tf.matmul(Y1t,W3) + b3\n",
    "CE  = tf.reduce_mean(tf.nn.softmax_cross_entropy_with_logits(logits=Y3,labels=P))\n",
    "CEt = tf.reduce_mean(tf.nn.softmax_cross_entropy_with_logits(logits=Y3t,labels=Pt))\n",
    "optimizer = tf.train.AdamOptimizer().minimize(CE)\n",
    "Po  = tf.nn.softmax(Y3)\n",
    "Pot = tf.nn.softmax(Y3t)\n",
    "init = tf.global_variables_initializer()\n",
    "sess = tf.Session()"
   ]
  },
  {
   "cell_type": "code",
   "execution_count": null,
   "metadata": {
    "collapsed": true
   },
   "outputs": [],
   "source": [
    "# run TensorFlow computation graph\n",
    "sess.run(init)\n",
    "MAXSTEPS = 1000\n",
    "MOD = MAXSTEPS/10\n",
    "time_start = time.time()\n",
    "for step in range(MAXSTEPS+1):\n",
    "    (_,ce,cet) = sess.run([optimizer,CE,CEt],\n",
    "                          feed_dict={X:inputs_train,Xt:inputs_test,P:outputs_train,Pt:outputs_test})\n",
    "    if (step % MOD) == 0:\n",
    "        time_elapsed   = time.time() - time_start\n",
    "        time_per_iter  = time_elapsed/(step + 1)\n",
    "        time_remaining = (MAXSTEPS - step)*time_per_iter\n",
    "        print('step %6d of %6d  train CE %-.5f  test CE %-.5f  time remaining (min) %-.1f' % \n",
    "              (step,MAXSTEPS,ce,cet,time_remaining/60))\n"
   ]
  },
  {
   "cell_type": "code",
   "execution_count": null,
   "metadata": {
    "collapsed": true
   },
   "outputs": [],
   "source": [
    "# compute error rates\n",
    "(po,pot) = sess.run([Po,Pot],feed_dict={X:inputs_train,Xt:inputs_test})\n",
    "p  = outputs_train.values\n",
    "pt = outputs_test.values\n",
    "err_train =  (po.argmax(axis=1)  != p.argmax(axis=1)).sum().sum()\n",
    "err_test  =  (pot.argmax(axis=1) != pt.argmax(axis=1)).sum().sum()\n",
    "err_train = err_train/p.shape[0]\n",
    "err_test  = err_test/pt.shape[0]\n",
    "print()\n",
    "print('training error rate = ',err_train.round(3),'  testing error rate = ',err_test.round(3))\n",
    "print()\n",
    "time_total = time.time() - time_start\n",
    "print('total training time (min)',np.round(time_total/60,1))\n"
   ]
  }
 ],
 "metadata": {
  "kernelspec": {
   "display_name": "Python 3",
   "language": "python",
   "name": "python3"
  },
  "language_info": {
   "codemirror_mode": {
    "name": "ipython",
    "version": 3
   },
   "file_extension": ".py",
   "mimetype": "text/x-python",
   "name": "python",
   "nbconvert_exporter": "python",
   "pygments_lexer": "ipython3",
   "version": "3.6.1"
  }
 },
 "nbformat": 4,
 "nbformat_minor": 2
}
