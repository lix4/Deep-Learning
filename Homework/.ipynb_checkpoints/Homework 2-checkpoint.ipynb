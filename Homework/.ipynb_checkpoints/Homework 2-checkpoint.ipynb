{
 "cells": [
  {
   "cell_type": "code",
   "execution_count": 1,
   "metadata": {
    "collapsed": true
   },
   "outputs": [],
   "source": [
    "import numpy as np\n",
    "import matplotlib.pyplot as plt\n",
    "%matplotlib inline"
   ]
  },
  {
   "cell_type": "code",
   "execution_count": 2,
   "metadata": {
    "collapsed": true
   },
   "outputs": [],
   "source": [
    "c1 = [10,-607415/30618,7021991/428652,-2274301/428652,88141/107163,-26435/428652,775/428652]\n",
    "c1 = np.array(c1)\n",
    "\n",
    "c2 = [10,-35395/1701,127643/6804,-196465/27216,37993/27216,-521/3888,139/27216]\n",
    "c2 = np.array(c2)"
   ]
  },
  {
   "cell_type": "code",
   "execution_count": 3,
   "metadata": {
    "collapsed": true
   },
   "outputs": [],
   "source": [
    "def f(c,x):\n",
    "    x2 = x*x\n",
    "    x3 = x2*x\n",
    "    x4 = x3*x\n",
    "    x5 = x4*x\n",
    "    x6 = x5*x\n",
    "    return c[0]+c[1]*x+c[2]*x2+c[3]*x3+c[4]*x4+c[5]*x5+c[6]*x6\n",
    "\n",
    "def df(c,x):\n",
    "    x2 = x*x\n",
    "    x3 = x2*x\n",
    "    x4 = x3*x\n",
    "    x5 = x4*x\n",
    "    return c[1]+2*c[2]*x+3*c[3]*x2+4*c[4]*x3+5*c[5]*x4+6*c[6]*x5"
   ]
  },
  {
   "cell_type": "code",
   "execution_count": 4,
   "metadata": {},
   "outputs": [
    {
     "data": {
      "text/plain": [
       "10.0"
      ]
     },
     "execution_count": 4,
     "metadata": {},
     "output_type": "execute_result"
    }
   ],
   "source": [
    "f(c1, 0)"
   ]
  },
  {
   "cell_type": "code",
   "execution_count": 5,
   "metadata": {
    "scrolled": true
   },
   "outputs": [
    {
     "name": "stdout",
     "output_type": "stream",
     "text": [
      "162 0.9999999627 2.0\n"
     ]
    }
   ],
   "source": [
    "#2.(a)\n",
    "\n",
    "kmax=1000\n",
    "b=0\n",
    "\n",
    "learning_rate=0.01\n",
    "\n",
    "fmin=f(c1,b)\n",
    "k=0\n",
    "\n",
    "while (f(c1,b) <= fmin) and (k < kmax):\n",
    "    fmin=f(c1,b)\n",
    "    b = b-df(c1,b)*learning_rate\n",
    "    k=k+1\n",
    "print(k,b,fmin)"
   ]
  },
  {
   "cell_type": "code",
   "execution_count": 6,
   "metadata": {},
   "outputs": [
    {
     "name": "stdout",
     "output_type": "stream",
     "text": [
      "1000 7.00337419542 5.00000417507\n"
     ]
    }
   ],
   "source": [
    "#2.(b)\n",
    "\n",
    "kmax=1000\n",
    "b=10\n",
    "\n",
    "learning_rate=0.01\n",
    "\n",
    "fmin=f(c1,b)\n",
    "k=0\n",
    "\n",
    "while (f(c1,b) <= fmin) and (k < kmax):\n",
    "    fmin=f(c1,b)\n",
    "    b = b-df(c1,b)*learning_rate\n",
    "    k=k+1\n",
    "print(k,b,fmin)"
   ]
  },
  {
   "cell_type": "code",
   "execution_count": 7,
   "metadata": {
    "collapsed": true
   },
   "outputs": [],
   "source": [
    "#2. (c)\n",
    "\n",
    "X = np.linspace(0,10,101)"
   ]
  },
  {
   "cell_type": "code",
   "execution_count": 8,
   "metadata": {},
   "outputs": [
    {
     "data": {
      "text/plain": [
       "array([ 0.,  0.,  0.,  0.,  0.,  0.,  0.,  0.,  0.,  0.,  0.,  0.,  0.,\n",
       "        0.,  0.,  0.,  0.,  0.,  0.,  0.,  0.,  0.,  0.,  0.,  0.,  0.,\n",
       "        0.,  0.,  0.,  0.,  0.,  0.,  0.,  0.,  0.,  0.,  0.,  0.,  0.,\n",
       "        0.,  0.,  0.,  0.,  0.,  0.,  0.,  0.,  0.,  0.,  0.,  0.,  0.,\n",
       "        0.,  0.,  0.,  0.,  0.,  0.,  0.,  0.,  0.,  0.,  0.,  0.,  0.,\n",
       "        0.,  0.,  0.,  0.,  0.,  0.,  0.,  0.,  0.,  0.,  0.,  0.,  0.,\n",
       "        0.,  0.,  0.,  0.,  0.,  0.,  0.,  0.,  0.,  0.,  0.,  0.,  0.,\n",
       "        0.,  0.,  0.,  0.,  0.,  0.,  0.,  0.,  0.,  0.])"
      ]
     },
     "execution_count": 8,
     "metadata": {},
     "output_type": "execute_result"
    }
   ],
   "source": [
    "f_value=np.zeros(len(X))\n",
    "f_value"
   ]
  },
  {
   "cell_type": "code",
   "execution_count": 9,
   "metadata": {
    "scrolled": true
   },
   "outputs": [
    {
     "data": {
      "text/plain": [
       "array([ 10.        ,   8.17474222,   6.64641463,   5.38605246,\n",
       "         4.36651973,   3.56243851,   2.95011947,   2.50749375,\n",
       "         2.21404609,   2.05074929,   2.        ,   2.04555574,\n",
       "         2.17247329,   2.36704834,   2.61675647,   2.9101954 ,\n",
       "         3.23702857,   3.58793002,   3.95453055,   4.32936518,\n",
       "         4.70582197,   5.07809207,   5.44112109,   5.7905618 ,\n",
       "         6.12272812,   6.43455038,   6.72353194,   6.98770703,\n",
       "         7.2256    ,   7.43618578,   7.61885166,   7.77336042,\n",
       "         7.8998147 ,   7.99862274,   8.07046531,   8.11626407,\n",
       "         8.13715119,   8.13444018,   8.10959817,   8.0642194 ,\n",
       "         8.        ,   7.91871416,   7.8221915 ,   7.71229579,\n",
       "         7.59090501,   7.45989262,   7.3211102 ,   7.1763714 ,\n",
       "         7.02743713,   6.87600208,   6.72368261,   6.57200582,\n",
       "         6.4224    ,   6.27618637,   6.13457213,   5.99864477,\n",
       "         5.86936772,   5.7475773 ,   5.63398095,   5.5291568 ,\n",
       "         5.43355449,   5.34749732,   5.27118572,   5.20470198,\n",
       "         5.14801633,   5.10099426,   5.06340521,   5.03493253,\n",
       "         5.01518469,   5.00370791,   5.        ,   5.00352549,\n",
       "         5.01373216,   5.03006875,   5.05200408,   5.0790474 ,\n",
       "         5.11077007,   5.14682851,   5.18698854,   5.23115089,\n",
       "         5.27937814,   5.33192287,   5.38925714,   5.45210332,\n",
       "         5.52146612,   5.59866603,   5.68537399,   5.78364739,\n",
       "         5.89596735,   6.02527735,   6.1750231 ,   6.34919375,\n",
       "         6.55236441,   6.78973992,   7.0672    ,   7.39134561,\n",
       "         7.7695467 ,   8.2099912 ,   8.72173535,   9.31475529,  10.        ])"
      ]
     },
     "execution_count": 9,
     "metadata": {},
     "output_type": "execute_result"
    }
   ],
   "source": [
    "for k in range(len(X)):\n",
    "    f_value[k]=f(c1,X[k])\n",
    "f_value"
   ]
  },
  {
   "cell_type": "code",
   "execution_count": 10,
   "metadata": {},
   "outputs": [
    {
     "data": {
      "image/png": "[encoded data removed]",
      "text/plain": [
       "<matplotlib.figure.Figure at 0x1ff58e0e470>"
      ]
     },
     "metadata": {},
     "output_type": "display_data"
    }
   ],
   "source": [
    "plt.plot(X,f_value)\n",
    "plt.show()"
   ]
  },
  {
   "cell_type": "code",
   "execution_count": 11,
   "metadata": {},
   "outputs": [
    {
     "name": "stdout",
     "output_type": "stream",
     "text": [
      "186 0.999999967525 2.0\n"
     ]
    }
   ],
   "source": [
    "# 2.(d)\n",
    "\n",
    "kmax=1000\n",
    "b=0\n",
    "\n",
    "learning_rate=0.01\n",
    "\n",
    "fmin=f(c2,b)\n",
    "k=0\n",
    "\n",
    "while (f(c2,b) <= fmin) and (k < kmax):\n",
    "    fmin=f(c2,b)\n",
    "    b = b-df(c2,b)*learning_rate\n",
    "    k=k+1\n",
    "print(k,b,fmin)"
   ]
  },
  {
   "cell_type": "code",
   "execution_count": 21,
   "metadata": {},
   "outputs": [
    {
     "name": "stdout",
     "output_type": "stream",
     "text": [
      "62494 4.00251328562 6.00000000339\n"
     ]
    }
   ],
   "source": [
    "# 2.(e)\n",
    "\n",
    "kmax=100000\n",
    "b=10\n",
    "\n",
    "learning_rate=0.01\n",
    "\n",
    "fmin=f(c2,b)\n",
    "k=0\n",
    "\n",
    "while (f(c2,b) <= fmin) and (k < kmax):\n",
    "    fmin=f(c2,b)\n",
    "    b = b-df(c2,b)*learning_rate\n",
    "    k=k+1\n",
    "print(k,b,fmin)"
   ]
  },
  {
   "cell_type": "code",
   "execution_count": 22,
   "metadata": {},
   "outputs": [
    {
     "data": {
      "text/plain": [
       "array([ 0.,  0.,  0.,  0.,  0.,  0.,  0.,  0.,  0.,  0.,  0.,  0.,  0.,\n",
       "        0.,  0.,  0.,  0.,  0.,  0.,  0.,  0.,  0.,  0.,  0.,  0.,  0.,\n",
       "        0.,  0.,  0.,  0.,  0.,  0.,  0.,  0.,  0.,  0.,  0.,  0.,  0.,\n",
       "        0.,  0.,  0.,  0.,  0.,  0.,  0.,  0.,  0.,  0.,  0.,  0.,  0.,\n",
       "        0.,  0.,  0.,  0.,  0.,  0.,  0.,  0.,  0.,  0.,  0.,  0.,  0.,\n",
       "        0.,  0.,  0.,  0.,  0.,  0.,  0.,  0.,  0.,  0.,  0.,  0.,  0.,\n",
       "        0.,  0.])"
      ]
     },
     "execution_count": 22,
     "metadata": {},
     "output_type": "execute_result"
    }
   ],
   "source": [
    "#2.(f)\n",
    "X1 = np.linspace(0,6,1001)\n",
    "X1\n",
    "\n",
    "f1_value=np.zeros(len(X1))\n",
    "f1_value"
   ]
  },
  {
   "cell_type": "code",
   "execution_count": 23,
   "metadata": {},
   "outputs": [
    {
     "data": {
      "text/plain": [
       "array([ 10.        ,   8.52471612,   7.24752409,   6.15107068,\n",
       "         5.2190377 ,   4.43610311,   3.78790287,   3.26099346,\n",
       "         2.84281516,   2.52165597,   2.28661628,   2.12757422,\n",
       "         2.03515175,   2.00068142,   2.01617386,   2.07428595,\n",
       "         2.16828973,   2.29204197,   2.43995452,   2.60696528,\n",
       "         2.78850991,   2.98049429,   3.17926761,   3.38159622,\n",
       "         3.58463816,   3.78591842,   3.98330486,   4.17498489,\n",
       "         4.35944282,   4.53543793,   4.70198325,   4.85832503,\n",
       "         5.00392291,   5.13843084,   5.26167867,   5.37365441,\n",
       "         5.47448729,   5.56443147,   5.64385042,   5.71320206,\n",
       "         5.77302462,   5.82392314,   5.86655672,   5.90162648,\n",
       "         5.92986421,   5.95202173,   5.96886092,   5.98114456,\n",
       "         5.98962775,   5.99505011,   5.99812867,   5.99955147,\n",
       "         5.99997185,   6.00000345,   6.00021593,   6.00113141,\n",
       "         6.00322154,   6.00690537,   6.01254787,   6.02045919,\n",
       "         6.03089455,   6.04405497,   6.06008858,   6.07909266,\n",
       "         6.10111649,   6.12616473,   6.15420168,   6.18515611,\n",
       "         6.21892688,   6.25538925,   6.29440184,   6.33581437,\n",
       "         6.3794761 ,   6.42524489,   6.47299706,   6.52263795,\n",
       "         6.57411311,   6.62742025,   6.68262194,   6.73985891])"
      ]
     },
     "execution_count": 23,
     "metadata": {},
     "output_type": "execute_result"
    }
   ],
   "source": [
    "for k in range(len(X1)):\n",
    "    f1_value[k]=f(c2,X1[k])\n",
    "f1_value"
   ]
  },
  {
   "cell_type": "code",
   "execution_count": 24,
   "metadata": {},
   "outputs": [
    {
     "data": {
      "image/png": "[encoded data removed]",
      "text/plain": [
       "<matplotlib.figure.Figure at 0x1ff593c9f28>"
      ]
     },
     "metadata": {},
     "output_type": "display_data"
    }
   ],
   "source": [
    "plt.plot(X1, f1_value)\n",
    "plt.show()"
   ]
  },
  {
   "cell_type": "code",
   "execution_count": null,
   "metadata": {
    "collapsed": true
   },
   "outputs": [],
   "source": []
  }
 ],
 "metadata": {
  "kernelspec": {
   "display_name": "Python 3",
   "language": "python",
   "name": "python3"
  },
  "language_info": {
   "codemirror_mode": {
    "name": "ipython",
    "version": 3
   },
   "file_extension": ".py",
   "mimetype": "text/x-python",
   "name": "python",
   "nbconvert_exporter": "python",
   "pygments_lexer": "ipython3",
   "version": "3.6.1"
  }
 },
 "nbformat": 4,
 "nbformat_minor": 2
}
