{
 "cells": [
  {
   "cell_type": "code",
   "execution_count": 1,
   "metadata": {
    "collapsed": true
   },
   "outputs": [],
   "source": [
    "import matplotlib.pyplot as plt\n",
    "import numpy as np\n",
    "%matplotlib inline"
   ]
  },
  {
   "cell_type": "code",
   "execution_count": 2,
   "metadata": {},
   "outputs": [
    {
     "data": {
      "text/html": [
       "<div>\n",
       "<style>\n",
       "    .dataframe thead tr:only-child th {\n",
       "        text-align: right;\n",
       "    }\n",
       "\n",
       "    .dataframe thead th {\n",
       "        text-align: left;\n",
       "    }\n",
       "\n",
       "    .dataframe tbody tr th {\n",
       "        vertical-align: top;\n",
       "    }\n",
       "</style>\n",
       "<table border=\"1\" class=\"dataframe\">\n",
       "  <thead>\n",
       "    <tr style=\"text-align: right;\">\n",
       "      <th></th>\n",
       "      <th>height</th>\n",
       "      <th>weight</th>\n",
       "    </tr>\n",
       "  </thead>\n",
       "  <tbody>\n",
       "    <tr>\n",
       "      <th>0</th>\n",
       "      <td>65.78331</td>\n",
       "      <td>112.9925</td>\n",
       "    </tr>\n",
       "    <tr>\n",
       "      <th>1</th>\n",
       "      <td>71.51521</td>\n",
       "      <td>136.4873</td>\n",
       "    </tr>\n",
       "    <tr>\n",
       "      <th>2</th>\n",
       "      <td>69.39874</td>\n",
       "      <td>153.0269</td>\n",
       "    </tr>\n",
       "  </tbody>\n",
       "</table>\n",
       "</div>"
      ],
      "text/plain": [
       "     height    weight\n",
       "0  65.78331  112.9925\n",
       "1  71.51521  136.4873\n",
       "2  69.39874  153.0269"
      ]
     },
     "execution_count": 2,
     "metadata": {},
     "output_type": "execute_result"
    }
   ],
   "source": [
    "#2\n",
    "import pandas\n",
    "data = pandas.read_csv('height_weight.csv')\n",
    "data.head(3)"
   ]
  },
  {
   "cell_type": "code",
   "execution_count": 3,
   "metadata": {},
   "outputs": [
    {
     "data": {
      "text/plain": [
       "array([[-1.03424254,  0.50343321],\n",
       "       [-0.84754576,  1.2686949 ],\n",
       "       [-0.91648244,  1.80741505],\n",
       "       ..., \n",
       "       [-1.06957484,  0.67518291],\n",
       "       [-0.97737688,  1.13127234],\n",
       "       [-0.93345644,  0.89043841]])"
      ]
     },
     "execution_count": 3,
     "metadata": {},
     "output_type": "execute_result"
    }
   ],
   "source": [
    "#standardize data\n",
    "temp = data.iloc[:,:].values\n",
    "data_s = (temp -temp.mean()) / temp.std()\n",
    "data_s"
   ]
  },
  {
   "cell_type": "code",
   "execution_count": 4,
   "metadata": {},
   "outputs": [
    {
     "data": {
      "text/plain": [
       "array([-1.03424254, -0.84754576, -0.91648244, ..., -1.06957484,\n",
       "       -0.97737688, -0.93345644])"
      ]
     },
     "execution_count": 4,
     "metadata": {},
     "output_type": "execute_result"
    }
   ],
   "source": [
    "# x=data['height'].copy()\n",
    "# del x[0]\n",
    "# height=pandas.DataFrame.as_matrix(x)\n",
    "# x=height.astype(np.float)\n",
    "# x\n",
    "x=data_s[:,0]\n",
    "x"
   ]
  },
  {
   "cell_type": "code",
   "execution_count": 5,
   "metadata": {},
   "outputs": [
    {
     "data": {
      "text/plain": [
       "array([ 0.50343321,  1.2686949 ,  1.80741505, ...,  0.67518291,\n",
       "        1.13127234,  0.89043841])"
      ]
     },
     "execution_count": 5,
     "metadata": {},
     "output_type": "execute_result"
    }
   ],
   "source": [
    "# y = data['weight'].copy()\n",
    "# del y[0]\n",
    "# height=pandas.DataFrame.as_matrix(y)\n",
    "# y=height.astype(np.float)\n",
    "y=data_s[:,1]\n",
    "y"
   ]
  },
  {
   "cell_type": "code",
   "execution_count": 6,
   "metadata": {},
   "outputs": [
    {
     "data": {
      "text/plain": [
       "(array([-1.03424254, -0.84754576, -0.91648244, ..., -1.06957484,\n",
       "        -0.97737688, -0.93345644]),\n",
       " array([ 0.50343321,  1.2686949 ,  1.80741505, ...,  0.67518291,\n",
       "         1.13127234,  0.89043841]))"
      ]
     },
     "execution_count": 6,
     "metadata": {},
     "output_type": "execute_result"
    }
   ],
   "source": [
    "x,y"
   ]
  },
  {
   "cell_type": "code",
   "execution_count": 7,
   "metadata": {},
   "outputs": [
    {
     "name": "stdout",
     "output_type": "stream",
     "text": [
      "0.502858520603\n"
     ]
    }
   ],
   "source": [
    "sx = x.std()\n",
    "sy = y.std()\n",
    "r = np.corrcoef(x,y)[0,1]\n",
    "print(r)\n",
    "x_ave = x.mean()\n",
    "y_ave = y.mean()"
   ]
  },
  {
   "cell_type": "code",
   "execution_count": 8,
   "metadata": {},
   "outputs": [
    {
     "name": "stdout",
     "output_type": "stream",
     "text": [
      "3.0834764454 3.92938992431\n"
     ]
    }
   ],
   "source": [
    "wopt = r*sy/sx\n",
    "bopt = y_ave - x_ave*r*sy/sx\n",
    "print(wopt,bopt)\n"
   ]
  },
  {
   "cell_type": "code",
   "execution_count": 9,
   "metadata": {},
   "outputs": [
    {
     "data": {
      "text/plain": [
       "0.10777576674981452"
      ]
     },
     "execution_count": 9,
     "metadata": {},
     "output_type": "execute_result"
    }
   ],
   "source": [
    "def MSE(w,b,x,y):\n",
    "    err = y-(w*x+b)\n",
    "    return (err*err).mean()\n",
    "MSE(3.0834764454  ,3.92938992431,x,y)"
   ]
  },
  {
   "cell_type": "code",
   "execution_count": 10,
   "metadata": {
    "collapsed": true
   },
   "outputs": [],
   "source": [
    "def dMSE_w(w,b,x,y):\n",
    "    return (-2*x*(y-w*x-b)).mean()"
   ]
  },
  {
   "cell_type": "code",
   "execution_count": 11,
   "metadata": {
    "collapsed": true
   },
   "outputs": [],
   "source": [
    "def dMSE_b(w,b,x,y):\n",
    "    return (-2*(y-w*x-b)).mean()"
   ]
  },
  {
   "cell_type": "code",
   "execution_count": 15,
   "metadata": {},
   "outputs": [
    {
     "name": "stdout",
     "output_type": "stream",
     "text": [
      "10000 3.98461352164 4.01591740837 0.720241538254\n",
      "20000 3.96980822725 4.03123204469 0.674862128655\n",
      "30000 3.95556213517 4.04596670717 0.632850499846\n",
      "40000 3.94185409513 4.06014333177 0.593956715404\n",
      "50000 3.92866375684 4.07378302476 0.557949387685\n",
      "60000 3.91597153967 4.08690609415 0.52461430124\n",
      "70000 3.90375860359 4.09953207981 0.493753138406\n",
      "80000 3.89200682114 4.11167978262 0.46518229946\n",
      "90000 3.88069875049 4.12336729233 0.438731810346\n",
      "100000 3.86981760949 4.13461201451 0.414244311462\n",
      "100000 3.86981760949 4.13461201451 0.414244311462\n"
     ]
    }
   ],
   "source": [
    "kmax=100000\n",
    "MOD = 10000\n",
    "b=4\n",
    "w=4\n",
    "\n",
    "learning_rate=0.0000001\n",
    "\n",
    "fmin=MSE(w,b,x,y)\n",
    "k=0\n",
    "\n",
    "while (MSE(w,b,x,y) <= fmin) and (k < kmax):\n",
    "    fmin=MSE(w,b,x,y)\n",
    "    b = b - dMSE_b(w,b,x,y)*learning_rate\n",
    "    w = w - dMSE_w(w,b,x,y)*learning_rate\n",
    "    k = k + 1\n",
    "    if(k % MOD == 0):\n",
    "        print(k,w,b,fmin)\n",
    "print(k,w,b,fmin)"
   ]
  },
  {
   "cell_type": "code",
   "execution_count": 16,
   "metadata": {},
   "outputs": [
    {
     "data": {
      "text/plain": [
       "110.25425318588454"
      ]
     },
     "execution_count": 16,
     "metadata": {},
     "output_type": "execute_result"
    }
   ],
   "source": [
    "(0.414244311462*temp.std())+temp.mean()"
   ]
  },
  {
   "cell_type": "code",
   "execution_count": null,
   "metadata": {
    "collapsed": true
   },
   "outputs": [],
   "source": []
  }
 ],
 "metadata": {
  "kernelspec": {
   "display_name": "Python 3",
   "language": "python",
   "name": "python3"
  },
  "language_info": {
   "codemirror_mode": {
    "name": "ipython",
    "version": 3
   },
   "file_extension": ".py",
   "mimetype": "text/x-python",
   "name": "python",
   "nbconvert_exporter": "python",
   "pygments_lexer": "ipython3",
   "version": "3.6.1"
  }
 },
 "nbformat": 4,
 "nbformat_minor": 2
}
