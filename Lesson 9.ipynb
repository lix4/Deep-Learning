{
 "cells": [
  {
   "cell_type": "code",
   "execution_count": 1,
   "metadata": {
    "collapsed": true
   },
   "outputs": [],
   "source": [
    "import pandas as pd\n",
    "import numpy as np\n",
    "import tensorflow as tf"
   ]
  },
  {
   "cell_type": "code",
   "execution_count": 2,
   "metadata": {
    "collapsed": true
   },
   "outputs": [],
   "source": [
    "data = pd.read_csv('./starting_salaries.csv')"
   ]
  },
  {
   "cell_type": "code",
   "execution_count": 3,
   "metadata": {},
   "outputs": [
    {
     "data": {
      "text/html": [
       "<div>\n",
       "<style>\n",
       "    .dataframe thead tr:only-child th {\n",
       "        text-align: right;\n",
       "    }\n",
       "\n",
       "    .dataframe thead th {\n",
       "        text-align: left;\n",
       "    }\n",
       "\n",
       "    .dataframe tbody tr th {\n",
       "        vertical-align: top;\n",
       "    }\n",
       "</style>\n",
       "<table border=\"1\" class=\"dataframe\">\n",
       "  <thead>\n",
       "    <tr style=\"text-align: right;\">\n",
       "      <th></th>\n",
       "      <th>GPA</th>\n",
       "      <th>unemployment</th>\n",
       "      <th>major</th>\n",
       "      <th>salary</th>\n",
       "    </tr>\n",
       "  </thead>\n",
       "  <tbody>\n",
       "    <tr>\n",
       "      <th>0</th>\n",
       "      <td>2.6</td>\n",
       "      <td>6.1</td>\n",
       "      <td>Eng</td>\n",
       "      <td>53100.0</td>\n",
       "    </tr>\n",
       "    <tr>\n",
       "      <th>1</th>\n",
       "      <td>2.6</td>\n",
       "      <td>5.6</td>\n",
       "      <td>CS</td>\n",
       "      <td>68700.0</td>\n",
       "    </tr>\n",
       "    <tr>\n",
       "      <th>2</th>\n",
       "      <td>2.8</td>\n",
       "      <td>6.5</td>\n",
       "      <td>CS</td>\n",
       "      <td>72800.0</td>\n",
       "    </tr>\n",
       "    <tr>\n",
       "      <th>3</th>\n",
       "      <td>2.8</td>\n",
       "      <td>5.0</td>\n",
       "      <td>CS</td>\n",
       "      <td>72100.0</td>\n",
       "    </tr>\n",
       "    <tr>\n",
       "      <th>4</th>\n",
       "      <td>3.1</td>\n",
       "      <td>6.1</td>\n",
       "      <td>MA</td>\n",
       "      <td>74800.0</td>\n",
       "    </tr>\n",
       "  </tbody>\n",
       "</table>\n",
       "</div>"
      ],
      "text/plain": [
       "   GPA  unemployment major   salary\n",
       "0  2.6           6.1   Eng  53100.0\n",
       "1  2.6           5.6    CS  68700.0\n",
       "2  2.8           6.5    CS  72800.0\n",
       "3  2.8           5.0    CS  72100.0\n",
       "4  3.1           6.1    MA  74800.0"
      ]
     },
     "execution_count": 3,
     "metadata": {},
     "output_type": "execute_result"
    }
   ],
   "source": [
    "data.head()"
   ]
  },
  {
   "cell_type": "code",
   "execution_count": 4,
   "metadata": {},
   "outputs": [
    {
     "data": {
      "text/plain": [
       "Eng    347\n",
       "CS     336\n",
       "MA     317\n",
       "Name: major, dtype: int64"
      ]
     },
     "execution_count": 4,
     "metadata": {},
     "output_type": "execute_result"
    }
   ],
   "source": [
    "data.major.value_counts()"
   ]
  },
  {
   "cell_type": "code",
   "execution_count": 5,
   "metadata": {},
   "outputs": [
    {
     "data": {
      "text/html": [
       "<div>\n",
       "<style>\n",
       "    .dataframe thead tr:only-child th {\n",
       "        text-align: right;\n",
       "    }\n",
       "\n",
       "    .dataframe thead th {\n",
       "        text-align: left;\n",
       "    }\n",
       "\n",
       "    .dataframe tbody tr th {\n",
       "        vertical-align: top;\n",
       "    }\n",
       "</style>\n",
       "<table border=\"1\" class=\"dataframe\">\n",
       "  <thead>\n",
       "    <tr style=\"text-align: right;\">\n",
       "      <th></th>\n",
       "      <th>GPA</th>\n",
       "      <th>unemployment</th>\n",
       "      <th>salary</th>\n",
       "      <th>major_CS</th>\n",
       "      <th>major_Eng</th>\n",
       "      <th>major_MA</th>\n",
       "    </tr>\n",
       "  </thead>\n",
       "  <tbody>\n",
       "    <tr>\n",
       "      <th>0</th>\n",
       "      <td>2.6</td>\n",
       "      <td>6.1</td>\n",
       "      <td>53100.0</td>\n",
       "      <td>0</td>\n",
       "      <td>1</td>\n",
       "      <td>0</td>\n",
       "    </tr>\n",
       "    <tr>\n",
       "      <th>1</th>\n",
       "      <td>2.6</td>\n",
       "      <td>5.6</td>\n",
       "      <td>68700.0</td>\n",
       "      <td>1</td>\n",
       "      <td>0</td>\n",
       "      <td>0</td>\n",
       "    </tr>\n",
       "    <tr>\n",
       "      <th>2</th>\n",
       "      <td>2.8</td>\n",
       "      <td>6.5</td>\n",
       "      <td>72800.0</td>\n",
       "      <td>1</td>\n",
       "      <td>0</td>\n",
       "      <td>0</td>\n",
       "    </tr>\n",
       "    <tr>\n",
       "      <th>3</th>\n",
       "      <td>2.8</td>\n",
       "      <td>5.0</td>\n",
       "      <td>72100.0</td>\n",
       "      <td>1</td>\n",
       "      <td>0</td>\n",
       "      <td>0</td>\n",
       "    </tr>\n",
       "    <tr>\n",
       "      <th>4</th>\n",
       "      <td>3.1</td>\n",
       "      <td>6.1</td>\n",
       "      <td>74800.0</td>\n",
       "      <td>0</td>\n",
       "      <td>0</td>\n",
       "      <td>1</td>\n",
       "    </tr>\n",
       "  </tbody>\n",
       "</table>\n",
       "</div>"
      ],
      "text/plain": [
       "   GPA  unemployment   salary  major_CS  major_Eng  major_MA\n",
       "0  2.6           6.1  53100.0         0          1         0\n",
       "1  2.6           5.6  68700.0         1          0         0\n",
       "2  2.8           6.5  72800.0         1          0         0\n",
       "3  2.8           5.0  72100.0         1          0         0\n",
       "4  3.1           6.1  74800.0         0          0         1"
      ]
     },
     "execution_count": 5,
     "metadata": {},
     "output_type": "execute_result"
    }
   ],
   "source": [
    "df1 = pd.get_dummies(data)\n",
    "df1.head()"
   ]
  },
  {
   "cell_type": "code",
   "execution_count": 6,
   "metadata": {},
   "outputs": [],
   "source": [
    "# GPA = df1.GPA\n",
    "# salary = df1.salary\n",
    "# unemployment = df1.unemployment\n",
    "df1.GPA = (df1.GPA - df1.GPA.mean()) / (df1.GPA.mean())\n",
    "df1.salary = (df1.salary - df1.salary.mean()) / (df1.salary.std())\n",
    "df1.unemployment = (df1.unemployment - df1.unemployment.mean()) / (df1.unemployment.std())\n",
    "# major_CS_s = df1.major_CS\n",
    "# major_Eng_s = df1.major_Eng\n",
    "# major_MA_s = df1.major_MA\n",
    "salary_s = df1.salary.values\n",
    "df1.drop(['salary'],axis=1,inplace=True)"
   ]
  },
  {
   "cell_type": "code",
   "execution_count": 11,
   "metadata": {},
   "outputs": [
    {
     "data": {
      "text/plain": [
       "(1000, 1)"
      ]
     },
     "execution_count": 11,
     "metadata": {},
     "output_type": "execute_result"
    }
   ],
   "source": [
    "# transform into numpy array\n",
    "df1.shape\n",
    "salary_s = salary_s.reshape((1000,1))\n",
    "# salary_s.reshape((1000,1))\n",
    "salary_s.shape"
   ]
  },
  {
   "cell_type": "code",
   "execution_count": 12,
   "metadata": {
    "collapsed": true
   },
   "outputs": [],
   "source": [
    "# initialize parameters\n",
    "w = tf.Variable(tf.random_normal([5, 1] ,stddev = 1))\n",
    "b = tf.Variable([1.0], dtype='float32')"
   ]
  },
  {
   "cell_type": "code",
   "execution_count": 13,
   "metadata": {},
   "outputs": [],
   "source": [
    "x = tf.placeholder(tf.float32, shape=(1000, 5))\n",
    "y = tf.placeholder(tf.float32, shape=(1000, 1))"
   ]
  },
  {
   "cell_type": "code",
   "execution_count": 14,
   "metadata": {},
   "outputs": [],
   "source": [
    "# define MSE\n",
    "loss = tf.reduce_mean(tf.square(y - (tf.matmul(x, w) + b)))"
   ]
  },
  {
   "cell_type": "code",
   "execution_count": 15,
   "metadata": {
    "collapsed": true
   },
   "outputs": [],
   "source": [
    "# define optimizer\n",
    "STEP_SIZE = 0.0001\n",
    "optimizer = tf.train.GradientDescentOptimizer(STEP_SIZE)\n",
    "train = optimizer.minimize(loss)\n",
    "init = tf.global_variables_initializer()"
   ]
  },
  {
   "cell_type": "code",
   "execution_count": 16,
   "metadata": {
    "collapsed": true
   },
   "outputs": [],
   "source": [
    "sess = tf.Session()\n",
    "MAXSTEPS = 100000\n",
    "MOD=10000\n",
    "#initialize all variables\n",
    "sess.run(init)"
   ]
  },
  {
   "cell_type": "code",
   "execution_count": 17,
   "metadata": {},
   "outputs": [
    {
     "name": "stdout",
     "output_type": "stream",
     "text": [
      "0 [[ 0.20910825]\n",
      " [-0.04092576]\n",
      " [ 0.39677334]\n",
      " [ 0.39332458]\n",
      " [-0.37947467]] [ 0.9997701] 2.4763\n",
      "10000 [[ 0.41488639]\n",
      " [-0.00053917]\n",
      " [ 0.31390867]\n",
      " [-0.37577435]\n",
      " [-0.32347846]] [ 0.20380192] 0.719193\n",
      "20000 [[ 0.61248964]\n",
      " [ 0.00786512]\n",
      " [ 0.38766757]\n",
      " [-0.64174074]\n",
      " [-0.18154167]] [ 0.15353194] 0.575379\n",
      "30000 [[ 0.80281621]\n",
      " [ 0.01027064]\n",
      " [ 0.43123543]\n",
      " [-0.76785845]\n",
      " [-0.09993944]] [ 0.1525864] 0.513739\n",
      "40000 [[ 0.98639029]\n",
      " [ 0.01104202]\n",
      " [ 0.45252165]\n",
      " [-0.83098036]\n",
      " [-0.05686541]] [ 0.15382323] 0.473499\n",
      "50000 [[ 1.16358101]\n",
      " [ 0.011195  ]\n",
      " [ 0.46237427]\n",
      " [-0.8626706 ]\n",
      " [-0.03426415]] [ 0.15457936] 0.440423\n",
      "60000 [[ 1.33468604]\n",
      " [ 0.01107598]\n",
      " [ 0.46660939]\n",
      " [-0.87844396]\n",
      " [-0.02231599]] [ 0.15496585] 0.410717\n",
      "70000 [[ 1.49994838]\n",
      " [ 0.01083401]\n",
      " [ 0.46811241]\n",
      " [-0.88614422]\n",
      " [-0.01589967]] [ 0.15516001] 0.383296\n",
      "80000 [[ 1.65958488]\n",
      " [ 0.0105385 ]\n",
      " [ 0.46829841]\n",
      " [-0.88974822]\n",
      " [-0.01236425]] [ 0.15527658] 0.357785\n",
      "90000 [[ 1.81375337]\n",
      " [ 0.01022351]\n",
      " [ 0.46785161]\n",
      " [-0.89131999]\n",
      " [-0.01032414]] [ 0.15532544] 0.334004\n",
      "100000 [[ 1.96270072]\n",
      " [ 0.00990686]\n",
      " [ 0.46714011]\n",
      " [-0.89176089]\n",
      " [-0.00906475]] [ 0.15532807] 0.311814\n"
     ]
    }
   ],
   "source": [
    "for step in range(MAXSTEPS+1):\n",
    "    (_,wopt,bopt,loss_opt) = sess.run([train,w,b,loss],feed_dict={x: df1, y:salary_s})\n",
    "    if (step % MOD) == 0:\n",
    "        print(step, wopt,bopt, loss_opt)"
   ]
  },
  {
   "cell_type": "code",
   "execution_count": 21,
   "metadata": {},
   "outputs": [],
   "source": [
    "def predict_salary(wopt, bopt):\n",
    "    return wopt * df1 + bopt"
   ]
  },
  {
   "cell_type": "code",
   "execution_count": 22,
   "metadata": {},
   "outputs": [
    {
     "ename": "ValueError",
     "evalue": "operands could not be broadcast together with shapes (5,1) (1000,5) ",
     "output_type": "error",
     "traceback": [
      "\u001b[1;31m---------------------------------------------------------------------------\u001b[0m",
      "\u001b[1;31mValueError\u001b[0m                                Traceback (most recent call last)",
      "\u001b[1;32m<ipython-input-22-73e14061f79e>\u001b[0m in \u001b[0;36m<module>\u001b[1;34m()\u001b[0m\n\u001b[1;32m----> 1\u001b[1;33m \u001b[0mpredict_salary\u001b[0m\u001b[1;33m(\u001b[0m\u001b[0mwopt\u001b[0m\u001b[1;33m,\u001b[0m \u001b[0mbopt\u001b[0m\u001b[1;33m)\u001b[0m\u001b[1;33m\u001b[0m\u001b[0m\n\u001b[0m",
      "\u001b[1;32m<ipython-input-21-bf4ba1a547ac>\u001b[0m in \u001b[0;36mpredict_salary\u001b[1;34m(wopt, bopt)\u001b[0m\n\u001b[0;32m      1\u001b[0m \u001b[1;32mdef\u001b[0m \u001b[0mpredict_salary\u001b[0m\u001b[1;33m(\u001b[0m\u001b[0mwopt\u001b[0m\u001b[1;33m,\u001b[0m \u001b[0mbopt\u001b[0m\u001b[1;33m)\u001b[0m\u001b[1;33m:\u001b[0m\u001b[1;33m\u001b[0m\u001b[0m\n\u001b[1;32m----> 2\u001b[1;33m     \u001b[1;32mreturn\u001b[0m \u001b[0mwopt\u001b[0m \u001b[1;33m*\u001b[0m \u001b[0mdf1\u001b[0m \u001b[1;33m+\u001b[0m \u001b[0mbopt\u001b[0m\u001b[1;33m\u001b[0m\u001b[0m\n\u001b[0m",
      "\u001b[1;31mValueError\u001b[0m: operands could not be broadcast together with shapes (5,1) (1000,5) "
     ]
    }
   ],
   "source": [
    "predict_salary(wopt, bopt)"
   ]
  },
  {
   "cell_type": "code",
   "execution_count": null,
   "metadata": {
    "collapsed": true
   },
   "outputs": [],
   "source": []
  }
 ],
 "metadata": {
  "kernelspec": {
   "display_name": "Python 3",
   "language": "python",
   "name": "python3"
  },
  "language_info": {
   "codemirror_mode": {
    "name": "ipython",
    "version": 3
   },
   "file_extension": ".py",
   "mimetype": "text/x-python",
   "name": "python",
   "nbconvert_exporter": "python",
   "pygments_lexer": "ipython3",
   "version": "3.6.1"
  }
 },
 "nbformat": 4,
 "nbformat_minor": 2
}
